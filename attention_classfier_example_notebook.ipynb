{
 "cells": [
  {
   "cell_type": "markdown",
   "metadata": {},
   "source": [
    "### Importing libraries"
   ]
  },
  {
   "cell_type": "code",
   "execution_count": 1,
   "metadata": {
    "collapsed": true
   },
   "outputs": [],
   "source": [
    "import anuvada\n",
    "import numpy as np\n",
    "import torch\n",
    "import pandas as pd"
   ]
  },
  {
   "cell_type": "code",
   "execution_count": 2,
   "metadata": {
    "collapsed": true
   },
   "outputs": [],
   "source": [
    "from anuvada.models.classification_attention_rnn import AttentionClassifier"
   ]
  },
  {
   "cell_type": "markdown",
   "metadata": {},
   "source": [
    "### Creating the dataset"
   ]
  },
  {
   "cell_type": "code",
   "execution_count": 3,
   "metadata": {
    "collapsed": true
   },
   "outputs": [],
   "source": [
    "from anuvada.datasets.data_loader import CreateDataset\n",
    "from anuvada.datasets.data_loader import LoadData"
   ]
  },
  {
   "cell_type": "code",
   "execution_count": 4,
   "metadata": {
    "collapsed": true
   },
   "outputs": [],
   "source": [
    "data = CreateDataset()"
   ]
  },
  {
   "cell_type": "code",
   "execution_count": 5,
   "metadata": {
    "collapsed": true
   },
   "outputs": [],
   "source": [
    "df = pd.read_csv('/home/sandeep/PycharmProjects/MovieSummaries/movie_summary_filtered.csv')"
   ]
  },
  {
   "cell_type": "code",
   "execution_count": 7,
   "metadata": {
    "collapsed": true
   },
   "outputs": [],
   "source": [
    "# passing only the first 512 samples, I don't have a GPU!\n",
    "y = list(df.Genre.values)[0:512]\n",
    "x = list(df.summary.values)[0:512]"
   ]
  },
  {
   "cell_type": "code",
   "execution_count": 9,
   "metadata": {},
   "outputs": [],
   "source": [
    "x, y = data.create_dataset(x,y, folder_path='test', max_doc_tokens=500)"
   ]
  },
  {
   "cell_type": "markdown",
   "metadata": {},
   "source": [
    "### Loading created dataset"
   ]
  },
  {
   "cell_type": "code",
   "execution_count": 10,
   "metadata": {
    "collapsed": true
   },
   "outputs": [],
   "source": [
    "l = LoadData()"
   ]
  },
  {
   "cell_type": "code",
   "execution_count": 11,
   "metadata": {
    "collapsed": true
   },
   "outputs": [],
   "source": [
    "x, y, token2id, label2id, lengths_mask = l.load_data_from_path('test')"
   ]
  },
  {
   "cell_type": "code",
   "execution_count": 12,
   "metadata": {
    "collapsed": true
   },
   "outputs": [],
   "source": [
    "id2token = {v: k for k, v in token2id.iteritems()}"
   ]
  },
  {
   "cell_type": "markdown",
   "metadata": {},
   "source": [
    "### Change into torch vectors"
   ]
  },
  {
   "cell_type": "code",
   "execution_count": 13,
   "metadata": {
    "collapsed": true
   },
   "outputs": [],
   "source": [
    "x = torch.from_numpy(x)"
   ]
  },
  {
   "cell_type": "code",
   "execution_count": 14,
   "metadata": {},
   "outputs": [],
   "source": [
    "y = torch.from_numpy(y)"
   ]
  },
  {
   "cell_type": "markdown",
   "metadata": {},
   "source": [
    "### Create attention classifier"
   ]
  },
  {
   "cell_type": "code",
   "execution_count": 15,
   "metadata": {
    "collapsed": true
   },
   "outputs": [],
   "source": [
    "acf = AttentionClassifier(vocab_size=len(token2id),embed_size=25,gru_hidden=25,n_classes=len(label2id))"
   ]
  },
  {
   "cell_type": "code",
   "execution_count": 16,
   "metadata": {},
   "outputs": [
    {
     "name": "stdout",
     "output_type": "stream",
     "text": [
      "Epoch 1 / 1\n",
      "[========================================] 100%\tloss: 4.0128loss: 4.0128    val_loss: 4.0077\n",
      "\n"
     ]
    }
   ],
   "source": [
    "loss = acf.fit(x,y, lengths_mask ,epochs=1,validation_split=0.5)"
   ]
  },
  {
   "cell_type": "markdown",
   "metadata": {},
   "source": [
    "### Predicting"
   ]
  },
  {
   "cell_type": "code",
   "execution_count": 17,
   "metadata": {},
   "outputs": [
    {
     "data": {
      "text/plain": [
       "\n",
       " 1.0621e-02  3.6426e-02  4.1559e-03  ...   6.8408e-02  2.5204e-01  2.1904e-01\n",
       "-2.5721e-02  6.9645e-02 -3.2914e-02  ...   7.5047e-02  2.3049e-01  2.2101e-01\n",
       "-3.1251e-02  3.8189e-02 -3.0737e-02  ...   7.8184e-02  2.3575e-01  2.0046e-01\n",
       "                ...                   ⋱                   ...                \n",
       "-2.0209e-03  1.3141e-01 -2.6578e-02  ...   1.4056e-01  1.8179e-01  1.4301e-01\n",
       " 1.9913e-02  1.1860e-01 -4.9426e-03  ...   9.5208e-02  1.5476e-01  1.6227e-01\n",
       " 9.4426e-03  1.1741e-01 -1.2416e-02  ...   9.4655e-02  1.7692e-01  1.5337e-01\n",
       "[torch.FloatTensor of size 512x53]"
      ]
     },
     "execution_count": 17,
     "metadata": {},
     "output_type": "execute_result"
    }
   ],
   "source": [
    "acf.predict(x, lengths_mask)"
   ]
  },
  {
   "cell_type": "code",
   "execution_count": 17,
   "metadata": {
    "collapsed": true
   },
   "outputs": [],
   "source": [
    "# torch.sum(acf.get_attention(x[0:64], lengths_mask[0:64]),dim=1)"
   ]
  },
  {
   "cell_type": "code",
   "execution_count": 18,
   "metadata": {},
   "outputs": [],
   "source": [
    "acf.visualize_attention(x[0:64],lengths_mask[0:64], id2token, 'visual.html')"
   ]
  },
  {
   "cell_type": "code",
   "execution_count": 18,
   "metadata": {
    "collapsed": true
   },
   "outputs": [],
   "source": [
    "from IPython.core.display import display, HTML"
   ]
  },
  {
   "cell_type": "code",
   "execution_count": 19,
   "metadata": {},
   "outputs": [
    {
     "data": {
      "text/html": [
       "<font style=\"background: rgba(255, 255, 0, 0.891874)\">{</font>\n",
       "<font style=\"background: rgba(255, 255, 0, 0.917955)\">{</font>\n",
       "<font style=\"background: rgba(255, 255, 0, 0.892801)\">plot</font>\n",
       "<font style=\"background: rgba(255, 255, 0, 0.867147)\">}</font>\n",
       "<font style=\"background: rgba(255, 255, 0, 0.852794)\">}</font>\n",
       "<font style=\"background: rgba(255, 255, 0, 0.910222)\">the</font>\n",
       "<font style=\"background: rgba(255, 255, 0, 0.944691)\">virginia</font>\n",
       "<font style=\"background: rgba(255, 255, 0, 0.867726)\">brothers</font>\n",
       "<font style=\"background: rgba(255, 255, 0, 0.881714)\">,</font>\n",
       "<font style=\"background: rgba(255, 255, 0, 0.888072)\">a</font>\n",
       "<font style=\"background: rgba(255, 255, 0, 0.846338)\">team</font>\n",
       "<font style=\"background: rgba(255, 255, 0, 0.859973)\">of</font>\n",
       "<font style=\"background: rgba(255, 255, 0, 0.864024)\">_UNK</font>\n",
       "<font style=\"background: rgba(255, 255, 0, 0.886605)\">,</font>\n",
       "<font style=\"background: rgba(255, 255, 0, 0.854098)\">along</font>\n",
       "<font style=\"background: rgba(255, 255, 0, 0.897838)\">with</font>\n",
       "<font style=\"background: rgba(255, 255, 0, 0.882053)\">a</font>\n",
       "<font style=\"background: rgba(255, 255, 0, 0.847804)\">_UNK</font>\n",
       "<font style=\"background: rgba(255, 255, 0, 0.882307)\">of</font>\n",
       "<font style=\"background: rgba(255, 255, 0, 0.925259)\">stengel</font>\n",
       "<font style=\"background: rgba(255, 255, 0, 0.932320)\">'s</font>\n",
       "<font style=\"background: rgba(255, 255, 0, 0.926773)\">henchmen</font>\n",
       "<font style=\"background: rgba(255, 255, 0, 0.943782)\">,</font>\n",
       "<font style=\"background: rgba(255, 255, 0, 0.959837)\">rob</font>\n",
       "<font style=\"background: rgba(255, 255, 0, 0.945148)\">the</font>\n",
       "<font style=\"background: rgba(255, 255, 0, 0.954945)\">town</font>\n",
       "<font style=\"background: rgba(255, 255, 0, 0.929173)\">bank</font>\n",
       "<font style=\"background: rgba(255, 255, 0, 0.901825)\">.</font>\n",
       "<font style=\"background: rgba(255, 255, 0, 0.902650)\">the</font>\n",
       "<font style=\"background: rgba(255, 255, 0, 0.875875)\">_UNK</font>\n",
       "<font style=\"background: rgba(255, 255, 0, 0.883332)\">are</font>\n",
       "<font style=\"background: rgba(255, 255, 0, 0.886654)\">able</font>\n",
       "<font style=\"background: rgba(255, 255, 0, 0.887083)\">to</font>\n",
       "<font style=\"background: rgba(255, 255, 0, 0.868074)\">_UNK</font>\n",
       "<font style=\"background: rgba(255, 255, 0, 0.931370)\">into</font>\n",
       "<font style=\"background: rgba(255, 255, 0, 0.931122)\">the</font>\n",
       "<font style=\"background: rgba(255, 255, 0, 0.948421)\">banks</font>\n",
       "<font style=\"background: rgba(255, 255, 0, 0.891237)\">_UNK</font>\n",
       "<font style=\"background: rgba(255, 255, 0, 0.917749)\">window</font>\n",
       "<font style=\"background: rgba(255, 255, 0, 0.913811)\">and</font>\n",
       "<font style=\"background: rgba(255, 255, 0, 0.894996)\">kill</font>\n",
       "<font style=\"background: rgba(255, 255, 0, 0.878802)\">all</font>\n",
       "<font style=\"background: rgba(255, 255, 0, 0.899771)\">the</font>\n",
       "<font style=\"background: rgba(255, 255, 0, 0.895269)\">guards</font>\n",
       "<font style=\"background: rgba(255, 255, 0, 0.893983)\">.</font>\n",
       "<font style=\"background: rgba(255, 255, 0, 0.910755)\">the</font>\n",
       "<font style=\"background: rgba(255, 255, 0, 0.860425)\">robbers</font>\n",
       "<font style=\"background: rgba(255, 255, 0, 0.886569)\">then</font>\n",
       "<font style=\"background: rgba(255, 255, 0, 0.950221)\">load</font>\n",
       "<font style=\"background: rgba(255, 255, 0, 0.941496)\">the</font>\n",
       "<font style=\"background: rgba(255, 255, 0, 0.950881)\">town</font>\n",
       "<font style=\"background: rgba(255, 255, 0, 0.919799)\">safe</font>\n",
       "<font style=\"background: rgba(255, 255, 0, 0.972304)\">into</font>\n",
       "<font style=\"background: rgba(255, 255, 0, 0.933159)\">a</font>\n",
       "<font style=\"background: rgba(255, 255, 0, 0.897321)\">wagon</font>\n",
       "<font style=\"background: rgba(255, 255, 0, 0.921251)\">and</font>\n",
       "<font style=\"background: rgba(255, 255, 0, 0.933620)\">escape</font>\n",
       "<font style=\"background: rgba(255, 255, 0, 0.906134)\">with</font>\n",
       "<font style=\"background: rgba(255, 255, 0, 0.865957)\">_UNK</font>\n",
       "<font style=\"background: rgba(255, 255, 0, 0.895976)\">dollars</font>\n",
       "<font style=\"background: rgba(255, 255, 0, 0.903036)\">.</font>\n",
       "<font style=\"background: rgba(255, 255, 0, 0.882410)\">just</font>\n",
       "<font style=\"background: rgba(255, 255, 0, 0.920156)\">as</font>\n",
       "<font style=\"background: rgba(255, 255, 0, 0.934875)\">they</font>\n",
       "<font style=\"background: rgba(255, 255, 0, 0.965962)\">leave</font>\n",
       "<font style=\"background: rgba(255, 255, 0, 0.955454)\">the</font>\n",
       "<font style=\"background: rgba(255, 255, 0, 0.946791)\">town</font>\n",
       "<font style=\"background: rgba(255, 255, 0, 0.918229)\">,</font>\n",
       "<font style=\"background: rgba(255, 255, 0, 0.877409)\">sabata</font>\n",
       "<font style=\"background: rgba(255, 255, 0, 0.852704)\"> </font>\n",
       "<font style=\"background: rgba(255, 255, 0, 0.870536)\">rides</font>\n",
       "<font style=\"background: rgba(255, 255, 0, 0.890924)\">in</font>\n",
       "<font style=\"background: rgba(255, 255, 0, 0.893979)\">.</font>\n",
       "<font style=\"background: rgba(255, 255, 0, 0.882082)\">outside</font>\n",
       "<font style=\"background: rgba(255, 255, 0, 0.914253)\">the</font>\n",
       "<font style=\"background: rgba(255, 255, 0, 0.938113)\">town</font>\n",
       "<font style=\"background: rgba(255, 255, 0, 0.855935)\">saloon</font>\n",
       "<font style=\"background: rgba(255, 255, 0, 0.903440)\">,</font>\n",
       "<font style=\"background: rgba(255, 255, 0, 0.939904)\">carrincha</font>\n",
       "<font style=\"background: rgba(255, 255, 0, 0.900878)\">has</font>\n",
       "<font style=\"background: rgba(255, 255, 0, 0.876789)\">been</font>\n",
       "<font style=\"background: rgba(255, 255, 0, 0.857546)\">_UNK</font>\n",
       "<font style=\"background: rgba(255, 255, 0, 0.923203)\">into</font>\n",
       "<font style=\"background: rgba(255, 255, 0, 0.913693)\">the</font>\n",
       "<font style=\"background: rgba(255, 255, 0, 0.892226)\">street</font>\n",
       "<font style=\"background: rgba(255, 255, 0, 0.930811)\">for</font>\n",
       "<font style=\"background: rgba(255, 255, 0, 0.894471)\">not</font>\n",
       "<font style=\"background: rgba(255, 255, 0, 0.919850)\">having</font>\n",
       "<font style=\"background: rgba(255, 255, 0, 0.907774)\">any</font>\n",
       "<font style=\"background: rgba(255, 255, 0, 0.906888)\">money</font>\n",
       "<font style=\"background: rgba(255, 255, 0, 0.905953)\">.</font>\n",
       "<font style=\"background: rgba(255, 255, 0, 0.911959)\">seeing</font>\n",
       "<font style=\"background: rgba(255, 255, 0, 0.949622)\">his</font>\n",
       "<font style=\"background: rgba(255, 255, 0, 0.937525)\">friend</font>\n",
       "<font style=\"background: rgba(255, 255, 0, 0.942481)\">alley</font>\n",
       "<font style=\"background: rgba(255, 255, 0, 0.921879)\">cat</font>\n",
       "<font style=\"background: rgba(255, 255, 0, 0.923998)\">,</font>\n",
       "<font style=\"background: rgba(255, 255, 0, 0.946066)\">carrincha</font>\n",
       "<font style=\"background: rgba(255, 255, 0, 0.892383)\">yells</font>\n",
       "<font style=\"background: rgba(255, 255, 0, 0.894780)\">at</font>\n",
       "<font style=\"background: rgba(255, 255, 0, 0.901984)\">him</font>\n",
       "<font style=\"background: rgba(255, 255, 0, 0.911261)\">,</font>\n",
       "<font style=\"background: rgba(255, 255, 0, 0.901022)\">and</font>\n",
       "<font style=\"background: rgba(255, 255, 0, 0.883310)\">starts</font>\n",
       "<font style=\"background: rgba(255, 255, 0, 0.889493)\">to</font>\n",
       "<font style=\"background: rgba(255, 255, 0, 0.864209)\">_UNK</font>\n",
       "<font style=\"background: rgba(255, 255, 0, 0.914828)\">about</font>\n",
       "<font style=\"background: rgba(255, 255, 0, 0.897864)\">how</font>\n",
       "<font style=\"background: rgba(255, 255, 0, 0.884381)\">_UNK</font>\n",
       "<font style=\"background: rgba(255, 255, 0, 0.893414)\">_UNK</font>\n",
       "<font style=\"background: rgba(255, 255, 0, 0.917061)\">life</font>\n",
       "<font style=\"background: rgba(255, 255, 0, 0.867382)\">is</font>\n",
       "<font style=\"background: rgba(255, 255, 0, 0.879517)\">,</font>\n",
       "<font style=\"background: rgba(255, 255, 0, 0.870370)\">then</font>\n",
       "<font style=\"background: rgba(255, 255, 0, 0.904032)\">seeing</font>\n",
       "<font style=\"background: rgba(255, 255, 0, 0.887836)\">sabata</font>\n",
       "<font style=\"background: rgba(255, 255, 0, 0.919268)\">,</font>\n",
       "<font style=\"background: rgba(255, 255, 0, 0.945439)\">continues</font>\n",
       "<font style=\"background: rgba(255, 255, 0, 0.962705)\">about</font>\n",
       "<font style=\"background: rgba(255, 255, 0, 0.941826)\">how</font>\n",
       "<font style=\"background: rgba(255, 255, 0, 0.971591)\">his</font>\n",
       "<font style=\"background: rgba(255, 255, 0, 0.954726)\">civil</font>\n",
       "<font style=\"background: rgba(255, 255, 0, 0.945879)\">war</font>\n",
       "<font style=\"background: rgba(255, 255, 0, 0.869255)\">_UNK</font>\n",
       "<font style=\"background: rgba(255, 255, 0, 0.906508)\">could</font>\n",
       "<font style=\"background: rgba(255, 255, 0, 0.909099)\">n't</font>\n",
       "<font style=\"background: rgba(255, 255, 0, 0.909139)\">even</font>\n",
       "<font style=\"background: rgba(255, 255, 0, 0.837696)\">be</font>\n",
       "<font style=\"background: rgba(255, 255, 0, 0.853299)\">_UNK</font>\n",
       "<font style=\"background: rgba(255, 255, 0, 0.925211)\">for</font>\n",
       "<font style=\"background: rgba(255, 255, 0, 0.907927)\">a</font>\n",
       "<font style=\"background: rgba(255, 255, 0, 0.866325)\">bottle</font>\n",
       "<font style=\"background: rgba(255, 255, 0, 0.879056)\">of</font>\n",
       "<font style=\"background: rgba(255, 255, 0, 0.881198)\">_UNK</font>\n",
       "<font style=\"background: rgba(255, 255, 0, 0.880568)\">.</font>\n",
       "<font style=\"background: rgba(255, 255, 0, 0.854977)\">sabata</font>\n",
       "<font style=\"background: rgba(255, 255, 0, 0.898291)\">,</font>\n",
       "<font style=\"background: rgba(255, 255, 0, 0.878902)\">_UNK</font>\n",
       "<font style=\"background: rgba(255, 255, 0, 0.909187)\">,</font>\n",
       "<font style=\"background: rgba(255, 255, 0, 0.911887)\">takes</font>\n",
       "<font style=\"background: rgba(255, 255, 0, 0.874241)\">out</font>\n",
       "<font style=\"background: rgba(255, 255, 0, 0.885048)\">a</font>\n",
       "<font style=\"background: rgba(255, 255, 0, 0.855210)\">_UNK</font>\n",
       "<font style=\"background: rgba(255, 255, 0, 0.865282)\">_UNK</font>\n",
       "<font style=\"background: rgba(255, 255, 0, 0.902868)\">and</font>\n",
       "<font style=\"background: rgba(255, 255, 0, 0.880361)\">tosses</font>\n",
       "<font style=\"background: rgba(255, 255, 0, 0.920958)\">it</font>\n",
       "<font style=\"background: rgba(255, 255, 0, 0.964354)\">into</font>\n",
       "<font style=\"background: rgba(255, 255, 0, 0.969609)\">carrincha</font>\n",
       "<font style=\"background: rgba(255, 255, 0, 0.961597)\">'s</font>\n",
       "<font style=\"background: rgba(255, 255, 0, 0.931254)\">hand</font>\n",
       "<font style=\"background: rgba(255, 255, 0, 0.905099)\">.</font>\n",
       "<font style=\"background: rgba(255, 255, 0, 0.929005)\">carrincha</font>\n",
       "<font style=\"background: rgba(255, 255, 0, 0.945814)\">happily</font>\n",
       "<font style=\"background: rgba(255, 255, 0, 0.914590)\">re</font>\n",
       "<font style=\"background: rgba(255, 255, 0, 0.933663)\">-</font>\n",
       "<font style=\"background: rgba(255, 255, 0, 0.911161)\">enters</font>\n",
       "<font style=\"background: rgba(255, 255, 0, 0.927641)\">the</font>\n",
       "<font style=\"background: rgba(255, 255, 0, 0.881350)\">saloon</font>\n",
       "<font style=\"background: rgba(255, 255, 0, 0.908591)\">and</font>\n",
       "<font style=\"background: rgba(255, 255, 0, 0.906005)\">buys</font>\n",
       "<font style=\"background: rgba(255, 255, 0, 0.913781)\">a</font>\n",
       "<font style=\"background: rgba(255, 255, 0, 0.911541)\">drink</font>\n",
       "<font style=\"background: rgba(255, 255, 0, 0.883955)\">.</font>\n",
       "<font style=\"background: rgba(255, 255, 0, 0.853724)\">sabata</font>\n",
       "<font style=\"background: rgba(255, 255, 0, 0.880628)\">enters</font>\n",
       "<font style=\"background: rgba(255, 255, 0, 0.904100)\">the</font>\n",
       "<font style=\"background: rgba(255, 255, 0, 0.854476)\">saloon</font>\n",
       "<font style=\"background: rgba(255, 255, 0, 0.894494)\">,</font>\n",
       "<font style=\"background: rgba(255, 255, 0, 0.897628)\">and</font>\n",
       "<font style=\"background: rgba(255, 255, 0, 0.915802)\">notices</font>\n",
       "<font style=\"background: rgba(255, 255, 0, 0.924618)\">that</font>\n",
       "<font style=\"background: rgba(255, 255, 0, 0.954066)\">an</font>\n",
       "<font style=\"background: rgba(255, 255, 0, 0.931002)\">old</font>\n",
       "<font style=\"background: rgba(255, 255, 0, 0.922877)\">man</font>\n",
       "<font style=\"background: rgba(255, 255, 0, 0.887559)\">is</font>\n",
       "<font style=\"background: rgba(255, 255, 0, 0.907339)\">being</font>\n",
       "<font style=\"background: rgba(255, 255, 0, 0.896056)\">cheated</font>\n",
       "<font style=\"background: rgba(255, 255, 0, 0.839813)\">out</font>\n",
       "<font style=\"background: rgba(255, 255, 0, 0.863560)\">of</font>\n",
       "<font style=\"background: rgba(255, 255, 0, 0.930761)\">his</font>\n",
       "<font style=\"background: rgba(255, 255, 0, 0.894490)\">money</font>\n",
       "<font style=\"background: rgba(255, 255, 0, 0.881544)\">in</font>\n",
       "<font style=\"background: rgba(255, 255, 0, 0.885861)\">a</font>\n",
       "<font style=\"background: rgba(255, 255, 0, 0.848198)\">_UNK</font>\n",
       "<font style=\"background: rgba(255, 255, 0, 0.891195)\">game</font>\n",
       "<font style=\"background: rgba(255, 255, 0, 0.884983)\">.</font>\n",
       "<font style=\"background: rgba(255, 255, 0, 0.878614)\">drawing</font>\n",
       "<font style=\"background: rgba(255, 255, 0, 0.938509)\">his</font>\n",
       "<font style=\"background: rgba(255, 255, 0, 0.918495)\">pistol</font>\n",
       "<font style=\"background: rgba(255, 255, 0, 0.904342)\">,</font>\n",
       "<font style=\"background: rgba(255, 255, 0, 0.883030)\">he</font>\n",
       "<font style=\"background: rgba(255, 255, 0, 0.864384)\">blows</font>\n",
       "<font style=\"background: rgba(255, 255, 0, 0.861190)\">apart</font>\n",
       "<font style=\"background: rgba(255, 255, 0, 0.893326)\">the</font>\n",
       "<font style=\"background: rgba(255, 255, 0, 0.872179)\">_UNK</font>\n",
       "<font style=\"background: rgba(255, 255, 0, 0.889731)\">,</font>\n",
       "<font style=\"background: rgba(255, 255, 0, 0.855352)\">saying</font>\n",
       "<font style=\"background: rgba(255, 255, 0, 0.911441)\">that</font>\n",
       "<font style=\"background: rgba(255, 255, 0, 0.944823)\">they</font>\n",
       "<font style=\"background: rgba(255, 255, 0, 0.922671)\">are</font>\n",
       "<font style=\"background: rgba(255, 255, 0, 0.887797)\">_UNK</font>\n",
       "<font style=\"background: rgba(255, 255, 0, 0.904567)\">.</font>\n",
       "<font style=\"background: rgba(255, 255, 0, 0.908821)\">a</font>\n",
       "<font style=\"background: rgba(255, 255, 0, 0.881427)\">man</font>\n",
       "<font style=\"background: rgba(255, 255, 0, 0.896284)\">,</font>\n",
       "<font style=\"background: rgba(255, 255, 0, 0.909999)\">eating</font>\n",
       "<font style=\"background: rgba(255, 255, 0, 0.911462)\">dinner</font>\n",
       "<font style=\"background: rgba(255, 255, 0, 0.895022)\">across</font>\n",
       "<font style=\"background: rgba(255, 255, 0, 0.897481)\">the</font>\n",
       "<font style=\"background: rgba(255, 255, 0, 0.853630)\">saloon</font>\n",
       "<font style=\"background: rgba(255, 255, 0, 0.882398)\">starts</font>\n",
       "<font style=\"background: rgba(255, 255, 0, 0.902290)\">to</font>\n",
       "<font style=\"background: rgba(255, 255, 0, 0.919390)\">stand</font>\n",
       "<font style=\"background: rgba(255, 255, 0, 1.000000)\">up</font>\n",
       "<font style=\"background: rgba(255, 255, 0, 0.937133)\">,</font>\n",
       "<font style=\"background: rgba(255, 255, 0, 0.921906)\">but</font>\n",
       "<font style=\"background: rgba(255, 255, 0, 0.871540)\">sabata</font>\n",
       "<font style=\"background: rgba(255, 255, 0, 0.889688)\">_UNK</font>\n",
       "<font style=\"background: rgba(255, 255, 0, 0.920845)\">at</font>\n",
       "<font style=\"background: rgba(255, 255, 0, 0.923894)\">him</font>\n",
       "<font style=\"background: rgba(255, 255, 0, 0.909553)\">and</font>\n",
       "<font style=\"background: rgba(255, 255, 0, 0.918971)\">orders</font>\n",
       "<font style=\"background: rgba(255, 255, 0, 0.941687)\">him</font>\n",
       "<font style=\"background: rgba(255, 255, 0, 0.913801)\">to</font>\n",
       "<font style=\"background: rgba(255, 255, 0, 0.870204)\">_UNK</font>\n",
       "<font style=\"background: rgba(255, 255, 0, 0.880856)\">down</font>\n",
       "<font style=\"background: rgba(255, 255, 0, 0.878963)\">.</font>\n",
       "<font style=\"background: rgba(255, 255, 0, 0.911538)\">turning</font>\n",
       "<font style=\"background: rgba(255, 255, 0, 0.944925)\">back</font>\n",
       "<font style=\"background: rgba(255, 255, 0, 0.879566)\">to</font>\n",
       "<font style=\"background: rgba(255, 255, 0, 0.897448)\">the</font>\n",
       "<font style=\"background: rgba(255, 255, 0, 0.854651)\">_UNK</font>\n",
       "<font style=\"background: rgba(255, 255, 0, 0.896114)\">game</font>\n",
       "<font style=\"background: rgba(255, 255, 0, 0.913952)\">,</font>\n",
       "<font style=\"background: rgba(255, 255, 0, 0.898981)\">sabata</font>\n",
       "<font style=\"background: rgba(255, 255, 0, 0.958360)\">reaches</font>\n",
       "<font style=\"background: rgba(255, 255, 0, 0.971637)\">into</font>\n",
       "<font style=\"background: rgba(255, 255, 0, 0.961251)\">his</font>\n",
       "<font style=\"background: rgba(255, 255, 0, 0.903775)\">_UNK</font>\n",
       "<font style=\"background: rgba(255, 255, 0, 0.919746)\">and</font>\n",
       "<font style=\"background: rgba(255, 255, 0, 0.953826)\">pulls</font>\n",
       "<font style=\"background: rgba(255, 255, 0, 0.881537)\">out</font>\n",
       "<font style=\"background: rgba(255, 255, 0, 0.887793)\">a</font>\n",
       "<font style=\"background: rgba(255, 255, 0, 0.866531)\">pair</font>\n",
       "<font style=\"background: rgba(255, 255, 0, 0.888555)\">of</font>\n",
       "<font style=\"background: rgba(255, 255, 0, 0.909374)\">non</font>\n",
       "<font style=\"background: rgba(255, 255, 0, 0.833833)\">_UNK</font>\n",
       "<font style=\"background: rgba(255, 255, 0, 0.843011)\">_UNK</font>\n",
       "<font style=\"background: rgba(255, 255, 0, 0.879202)\">,</font>\n",
       "<font style=\"background: rgba(255, 255, 0, 0.889733)\">which</font>\n",
       "<font style=\"background: rgba(255, 255, 0, 0.891739)\">he</font>\n",
       "<font style=\"background: rgba(255, 255, 0, 0.923433)\">uses</font>\n",
       "<font style=\"background: rgba(255, 255, 0, 0.919101)\">to</font>\n",
       "<font style=\"background: rgba(255, 255, 0, 0.896547)\">win</font>\n",
       "<font style=\"background: rgba(255, 255, 0, 0.933066)\">the</font>\n",
       "<font style=\"background: rgba(255, 255, 0, 0.935804)\">old</font>\n",
       "<font style=\"background: rgba(255, 255, 0, 0.924091)\">man</font>\n",
       "<font style=\"background: rgba(255, 255, 0, 0.963319)\">his</font>\n",
       "<font style=\"background: rgba(255, 255, 0, 0.939221)\">money</font>\n",
       "<font style=\"background: rgba(255, 255, 0, 0.987966)\">back</font>\n",
       "<font style=\"background: rgba(255, 255, 0, 0.924218)\">.</font>\n",
       "<font style=\"background: rgba(255, 255, 0, 0.932787)\">the</font>\n",
       "<font style=\"background: rgba(255, 255, 0, 0.913105)\">man</font>\n",
       "<font style=\"background: rgba(255, 255, 0, 0.919319)\">whom</font>\n",
       "<font style=\"background: rgba(255, 255, 0, 0.865074)\">sabata</font>\n",
       "<font style=\"background: rgba(255, 255, 0, 0.866972)\">ordered</font>\n",
       "<font style=\"background: rgba(255, 255, 0, 0.855669)\">to</font>\n",
       "<font style=\"background: rgba(255, 255, 0, 0.830198)\">_UNK</font>\n",
       "<font style=\"background: rgba(255, 255, 0, 0.845834)\">down</font>\n",
       "<font style=\"background: rgba(255, 255, 0, 0.861864)\">starts</font>\n",
       "<font style=\"background: rgba(255, 255, 0, 0.876350)\">to</font>\n",
       "<font style=\"background: rgba(255, 255, 0, 0.858725)\">_UNK</font>\n",
       "<font style=\"background: rgba(255, 255, 0, 0.914076)\">draw</font>\n",
       "<font style=\"background: rgba(255, 255, 0, 0.923500)\">a</font>\n",
       "<font style=\"background: rgba(255, 255, 0, 0.931920)\">gun</font>\n",
       "<font style=\"background: rgba(255, 255, 0, 0.921374)\">,</font>\n",
       "<font style=\"background: rgba(255, 255, 0, 0.916553)\">but</font>\n",
       "<font style=\"background: rgba(255, 255, 0, 0.864456)\">sabata</font>\n",
       "<font style=\"background: rgba(255, 255, 0, 0.883903)\">quick</font>\n",
       "<font style=\"background: rgba(255, 255, 0, 0.903861)\">-</font>\n",
       "<font style=\"background: rgba(255, 255, 0, 0.906428)\">draws</font>\n",
       "<font style=\"background: rgba(255, 255, 0, 0.915309)\">and</font>\n",
       "<font style=\"background: rgba(255, 255, 0, 0.859336)\">_UNK</font>\n",
       "<font style=\"background: rgba(255, 255, 0, 0.856165)\">out</font>\n",
       "<font style=\"background: rgba(255, 255, 0, 0.887885)\">the</font>\n",
       "<font style=\"background: rgba(255, 255, 0, 0.918672)\">front</font>\n",
       "<font style=\"background: rgba(255, 255, 0, 0.871155)\">_UNK</font>\n",
       "<font style=\"background: rgba(255, 255, 0, 0.897658)\">of</font>\n",
       "<font style=\"background: rgba(255, 255, 0, 0.955204)\">the</font>\n",
       "<font style=\"background: rgba(255, 255, 0, 0.947373)\">chair</font>\n",
       "<font style=\"background: rgba(255, 255, 0, 0.911351)\">which</font>\n",
       "<font style=\"background: rgba(255, 255, 0, 0.932483)\">the</font>\n",
       "<font style=\"background: rgba(255, 255, 0, 0.918311)\">man</font>\n",
       "<font style=\"background: rgba(255, 255, 0, 0.932613)\">was</font>\n",
       "<font style=\"background: rgba(255, 255, 0, 0.877511)\">sitting</font>\n",
       "<font style=\"background: rgba(255, 255, 0, 0.918328)\">on</font>\n",
       "<font style=\"background: rgba(255, 255, 0, 0.911668)\">,</font>\n",
       "<font style=\"background: rgba(255, 255, 0, 0.901649)\">causing</font>\n",
       "<font style=\"background: rgba(255, 255, 0, 0.938810)\">him</font>\n",
       "<font style=\"background: rgba(255, 255, 0, 0.916955)\">to</font>\n",
       "<font style=\"background: rgba(255, 255, 0, 0.904043)\">fall</font>\n",
       "<font style=\"background: rgba(255, 255, 0, 0.887583)\">face</font>\n",
       "<font style=\"background: rgba(255, 255, 0, 0.892631)\">first</font>\n",
       "<font style=\"background: rgba(255, 255, 0, 0.962866)\">into</font>\n",
       "<font style=\"background: rgba(255, 255, 0, 0.983687)\">his</font>\n",
       "<font style=\"background: rgba(255, 255, 0, 0.983933)\">food</font>\n",
       "<font style=\"background: rgba(255, 255, 0, 0.909987)\">.</font>\n",
       "<font style=\"background: rgba(255, 255, 0, 0.900713)\">at</font>\n",
       "<font style=\"background: rgba(255, 255, 0, 0.870645)\">that</font>\n",
       "<font style=\"background: rgba(255, 255, 0, 0.883638)\">moment</font>\n",
       "<font style=\"background: rgba(255, 255, 0, 0.875136)\">,</font>\n",
       "<font style=\"background: rgba(255, 255, 0, 0.849849)\">banjo</font>\n",
       "<font style=\"background: rgba(255, 255, 0, 0.877982)\">starts</font>\n",
       "<font style=\"background: rgba(255, 255, 0, 0.886162)\">to</font>\n",
       "<font style=\"background: rgba(255, 255, 0, 0.884282)\">play</font>\n",
       "<font style=\"background: rgba(255, 255, 0, 0.897565)\">a</font>\n",
       "<font style=\"background: rgba(255, 255, 0, 0.870071)\">_UNK</font>\n",
       "<font style=\"background: rgba(255, 255, 0, 0.934079)\">on</font>\n",
       "<font style=\"background: rgba(255, 255, 0, 0.943819)\">his</font>\n",
       "<font style=\"background: rgba(255, 255, 0, 0.901151)\">banjo</font>\n",
       "<font style=\"background: rgba(255, 255, 0, 0.902725)\">.</font>\n",
       "<font style=\"background: rgba(255, 255, 0, 0.927621)\">the</font>\n",
       "<font style=\"background: rgba(255, 255, 0, 0.926032)\">man</font>\n",
       "<font style=\"background: rgba(255, 255, 0, 0.893710)\">screams</font>\n",
       "<font style=\"background: rgba(255, 255, 0, 0.912455)\">at</font>\n",
       "<font style=\"background: rgba(255, 255, 0, 0.913800)\">him</font>\n",
       "<font style=\"background: rgba(255, 255, 0, 0.904875)\">to</font>\n",
       "<font style=\"background: rgba(255, 255, 0, 0.842714)\">stop</font>\n",
       "<font style=\"background: rgba(255, 255, 0, 0.884035)\">,</font>\n",
       "<font style=\"background: rgba(255, 255, 0, 0.885472)\">and</font>\n",
       "<font style=\"background: rgba(255, 255, 0, 0.838287)\">banjo</font>\n",
       "<font style=\"background: rgba(255, 255, 0, 0.853046)\">_UNK</font>\n",
       "<font style=\"background: rgba(255, 255, 0, 0.877656)\">,</font>\n",
       "<font style=\"background: rgba(255, 255, 0, 0.844253)\">saying</font>\n",
       "<font style=\"background: rgba(255, 255, 0, 0.842708)\"> </font>\n",
       "<font style=\"background: rgba(255, 255, 0, 0.881619)\">that</font>\n",
       "<font style=\"background: rgba(255, 255, 0, 0.907903)\">he</font>\n",
       "<font style=\"background: rgba(255, 255, 0, 0.964540)\">thought</font>\n",
       "<font style=\"background: rgba(255, 255, 0, 0.972692)\">the</font>\n",
       "<font style=\"background: rgba(255, 255, 0, 0.938037)\">man</font>\n",
       "<font style=\"background: rgba(255, 255, 0, 0.896497)\">_UNK</font>\n",
       "<font style=\"background: rgba(255, 255, 0, 0.899569)\">music</font>\n",
       "<font style=\"background: rgba(255, 255, 0, 0.908430)\">with</font>\n",
       "<font style=\"background: rgba(255, 255, 0, 0.932705)\">his</font>\n",
       "<font style=\"background: rgba(255, 255, 0, 0.895636)\">_UNK</font>\n",
       "<font style=\"background: rgba(255, 255, 0, 0.888484)\">.</font>\n",
       "<font style=\"background: rgba(255, 255, 0, 0.895440)\">carrincha</font>\n",
       "<font style=\"background: rgba(255, 255, 0, 0.872859)\">starts</font>\n",
       "<font style=\"background: rgba(255, 255, 0, 0.861817)\">to</font>\n",
       "<font style=\"background: rgba(255, 255, 0, 0.829837)\">_UNK</font>\n",
       "<font style=\"background: rgba(255, 255, 0, 0.866643)\">that</font>\n",
       "<font style=\"background: rgba(255, 255, 0, 0.891436)\">he</font>\n",
       "<font style=\"background: rgba(255, 255, 0, 0.900936)\">once</font>\n",
       "<font style=\"background: rgba(255, 255, 0, 0.901025)\">saw</font>\n",
       "<font style=\"background: rgba(255, 255, 0, 0.871545)\">sabata</font>\n",
       "<font style=\"background: rgba(255, 255, 0, 0.896431)\">kill</font>\n",
       "<font style=\"background: rgba(255, 255, 0, 0.952508)\">twenty</font>\n",
       "<font style=\"background: rgba(255, 255, 0, 0.971104)\">men</font>\n",
       "<font style=\"background: rgba(255, 255, 0, 0.891930)\">in</font>\n",
       "<font style=\"background: rgba(255, 255, 0, 0.905149)\">ten</font>\n",
       "<font style=\"background: rgba(255, 255, 0, 0.863919)\">_UNK</font>\n",
       "<font style=\"background: rgba(255, 255, 0, 0.928060)\">on</font>\n",
       "<font style=\"background: rgba(255, 255, 0, 0.907006)\">a</font>\n",
       "<font style=\"background: rgba(255, 255, 0, 0.869591)\">_UNK</font>\n",
       "<font style=\"background: rgba(255, 255, 0, 0.868374)\">black</font>\n",
       "<font style=\"background: rgba(255, 255, 0, 0.891828)\">night</font>\n",
       "<font style=\"background: rgba(255, 255, 0, 0.886063)\">.</font>\n",
       "<font style=\"background: rgba(255, 255, 0, 0.891891)\">a</font>\n",
       "<font style=\"background: rgba(255, 255, 0, 0.874443)\">mortally</font>\n",
       "<font style=\"background: rgba(255, 255, 0, 0.913976)\">wounded</font>\n",
       "<font style=\"background: rgba(255, 255, 0, 0.919933)\">bank</font>\n",
       "<font style=\"background: rgba(255, 255, 0, 0.915158)\">guard</font>\n",
       "<font style=\"background: rgba(255, 255, 0, 0.884529)\">bursts</font>\n",
       "<font style=\"background: rgba(255, 255, 0, 0.934788)\">into</font>\n",
       "<font style=\"background: rgba(255, 255, 0, 0.927389)\">the</font>\n",
       "<font style=\"background: rgba(255, 255, 0, 0.860313)\">saloon</font>\n",
       "<font style=\"background: rgba(255, 255, 0, 0.897306)\">,</font>\n",
       "<font style=\"background: rgba(255, 255, 0, 0.906408)\">tells</font>\n",
       "<font style=\"background: rgba(255, 255, 0, 0.890932)\">everyone</font>\n",
       "<font style=\"background: rgba(255, 255, 0, 0.934318)\">the</font>\n",
       "<font style=\"background: rgba(255, 255, 0, 0.934763)\">bank</font>\n",
       "<font style=\"background: rgba(255, 255, 0, 0.938842)\">'s</font>\n",
       "<font style=\"background: rgba(255, 255, 0, 0.879505)\">been</font>\n",
       "<font style=\"background: rgba(255, 255, 0, 0.857901)\">_UNK</font>\n",
       "<font style=\"background: rgba(255, 255, 0, 0.899965)\">,</font>\n",
       "<font style=\"background: rgba(255, 255, 0, 0.907054)\">and</font>\n",
       "<font style=\"background: rgba(255, 255, 0, 0.921711)\">dies</font>\n",
       "<font style=\"background: rgba(255, 255, 0, 0.896643)\">.</font>\n",
       "<font style=\"background: rgba(255, 255, 0, 0.879369)\">everyone</font>\n",
       "<font style=\"background: rgba(255, 255, 0, 0.952497)\">panics</font>\n",
       "<font style=\"background: rgba(255, 255, 0, 0.926899)\">,</font>\n",
       "<font style=\"background: rgba(255, 255, 0, 0.924662)\">running</font>\n",
       "<font style=\"background: rgba(255, 255, 0, 0.906629)\">to</font>\n",
       "<font style=\"background: rgba(255, 255, 0, 0.936395)\">the</font>\n",
       "<font style=\"background: rgba(255, 255, 0, 0.934794)\">bank</font>\n",
       "<font style=\"background: rgba(255, 255, 0, 0.904145)\">.</font>\n",
       "<font style=\"background: rgba(255, 255, 0, 0.918091)\">the</font>\n",
       "<font style=\"background: rgba(255, 255, 0, 0.894174)\">local</font>\n",
       "<font style=\"background: rgba(255, 255, 0, 0.949038)\">military</font>\n",
       "<font style=\"background: rgba(255, 255, 0, 0.954463)\">commander</font>\n",
       "<font style=\"background: rgba(255, 255, 0, 0.916641)\">will</font>\n",
       "<font style=\"background: rgba(255, 255, 0, 0.906973)\">have</font>\n",
       "<font style=\"background: rgba(255, 255, 0, 0.872940)\">to</font>\n",
       "<font style=\"background: rgba(255, 255, 0, 0.833911)\">be</font>\n",
       "<font style=\"background: rgba(255, 255, 0, 0.917116)\">told</font>\n",
       "<font style=\"background: rgba(255, 255, 0, 0.911870)\">,</font>\n",
       "<font style=\"background: rgba(255, 255, 0, 0.899293)\">and</font>\n",
       "<font style=\"background: rgba(255, 255, 0, 0.854432)\">_UNK</font>\n",
       "<font style=\"background: rgba(255, 255, 0, 0.859164)\">_UNK</font>\n",
       "<font style=\"background: rgba(255, 255, 0, 0.868006)\">in</font>\n",
       "<font style=\"background: rgba(255, 255, 0, 0.908101)\">the</font>\n",
       "<font style=\"background: rgba(255, 255, 0, 0.908387)\">morning</font>\n",
       "<font style=\"background: rgba(255, 255, 0, 0.884070)\">.</font>\n",
       "<font style=\"background: rgba(255, 255, 0, 0.904112)\">the</font>\n",
       "<font style=\"background: rgba(255, 255, 0, 0.873883)\">robbers</font>\n",
       "<font style=\"background: rgba(255, 255, 0, 0.857711)\"> </font>\n",
       "<font style=\"background: rgba(255, 255, 0, 0.885834)\">are</font>\n",
       "<font style=\"background: rgba(255, 255, 0, 0.858728)\">riding</font>\n",
       "<font style=\"background: rgba(255, 255, 0, 0.905124)\">away</font>\n",
       "<font style=\"background: rgba(255, 255, 0, 0.943872)\">from</font>\n",
       "<font style=\"background: rgba(255, 255, 0, 0.939155)\">the</font>\n",
       "<font style=\"background: rgba(255, 255, 0, 0.938628)\">town</font>\n",
       "<font style=\"background: rgba(255, 255, 0, 0.900687)\">,</font>\n",
       "<font style=\"background: rgba(255, 255, 0, 0.883779)\">when</font>\n",
       "<font style=\"background: rgba(255, 255, 0, 0.908536)\">they</font>\n",
       "<font style=\"background: rgba(255, 255, 0, 0.908269)\">notice</font>\n",
       "<font style=\"background: rgba(255, 255, 0, 0.879077)\">sabata</font>\n",
       "<font style=\"background: rgba(255, 255, 0, 0.869210)\">is</font>\n",
       "<font style=\"background: rgba(255, 255, 0, 0.888883)\">standing</font>\n",
       "<font style=\"background: rgba(255, 255, 0, 0.888745)\">in</font>\n",
       "<font style=\"background: rgba(255, 255, 0, 0.882037)\">their</font>\n",
       "<font style=\"background: rgba(255, 255, 0, 0.856421)\">path</font>\n",
       "<font style=\"background: rgba(255, 255, 0, 0.913590)\">,</font>\n",
       "<font style=\"background: rgba(255, 255, 0, 0.887756)\">_UNK</font>\n",
       "<font style=\"background: rgba(255, 255, 0, 0.910259)\">-</font>\n",
       "<font style=\"background: rgba(255, 255, 0, 0.845024)\">_UNK</font>\n",
       "<font style=\"background: rgba(255, 255, 0, 0.839550)\">_UNK</font>\n",
       "<font style=\"background: rgba(255, 255, 0, 0.840203)\">_UNK</font>\n",
       "<font style=\"background: rgba(255, 255, 0, 0.870168)\">of</font>\n",
       "<font style=\"background: rgba(255, 255, 0, 0.900402)\">them</font>\n",
       "<font style=\"background: rgba(255, 255, 0, 0.896083)\">.</font>\n",
       "<font style=\"background: rgba(255, 255, 0, 0.866191)\">_UNK</font>\n",
       "<font style=\"background: rgba(255, 255, 0, 0.915226)\">a</font>\n",
       "<font style=\"background: rgba(255, 255, 0, 0.940691)\">rifle</font>\n",
       "<font style=\"background: rgba(255, 255, 0, 0.901452)\">at</font>\n",
       "<font style=\"background: rgba(255, 255, 0, 0.902704)\">the</font>\n",
       "<font style=\"background: rgba(255, 255, 0, 0.854188)\">robbers</font>\n",
       "<font style=\"background: rgba(255, 255, 0, 0.883981)\">,</font>\n",
       "<font style=\"background: rgba(255, 255, 0, 0.881864)\">sabata</font>\n",
       "<font style=\"background: rgba(255, 255, 0, 0.875393)\">yells</font>\n",
       "<font style=\"background: rgba(255, 255, 0, 0.892863)\">at</font>\n",
       "<font style=\"background: rgba(255, 255, 0, 0.882861)\">them</font>\n",
       "<font style=\"background: rgba(255, 255, 0, 0.913645)\">to</font>\n",
       "<font style=\"background: rgba(255, 255, 0, 0.976751)\">go</font>\n",
       "<font style=\"background: rgba(255, 255, 0, 0.965447)\">back</font>\n",
       "<font style=\"background: rgba(255, 255, 0, 0.901352)\">to</font>\n",
       "<font style=\"background: rgba(255, 255, 0, 0.931898)\">the</font>\n",
       "<font style=\"background: rgba(255, 255, 0, 0.948685)\">town</font>\n",
       "<font style=\"background: rgba(255, 255, 0, 0.894690)\">.</font>\n",
       "<font style=\"background: rgba(255, 255, 0, 0.904476)\">one</font>\n",
       "<font style=\"background: rgba(255, 255, 0, 0.883772)\">of</font>\n",
       "<font style=\"background: rgba(255, 255, 0, 0.927021)\">the</font>\n",
       "<font style=\"background: rgba(255, 255, 0, 0.879269)\">robbers</font>\n",
       "<font style=\"background: rgba(255, 255, 0, 0.899403)\">turns</font>\n",
       "<font style=\"background: rgba(255, 255, 0, 0.897831)\">to</font>\n",
       "<font style=\"background: rgba(255, 255, 0, 0.897942)\">a</font>\n",
       "<font style=\"background: rgba(255, 255, 0, 0.893547)\">friend</font>\n",
       "<font style=\"background: rgba(255, 255, 0, 0.912089)\">and</font>\n",
       "<font style=\"background: rgba(255, 255, 0, 0.880226)\">says</font>\n",
       "<font style=\"background: rgba(255, 255, 0, 0.867538)\">\"</font>\n",
       "<font style=\"background: rgba(255, 255, 0, 0.898614)\">there</font>\n",
       "<font style=\"background: rgba(255, 255, 0, 0.874090)\">is</font>\n",
       "<font style=\"background: rgba(255, 255, 0, 0.892360)\">n't</font>\n",
       "<font style=\"background: rgba(255, 255, 0, 0.908440)\">a</font>\n",
       "<font style=\"background: rgba(255, 255, 0, 0.880620)\">_UNK</font>\n",
       "<font style=\"background: rgba(255, 255, 0, 0.952800)\">going</font>\n",
       "<font style=\"background: rgba(255, 255, 0, 0.910789)\">that</font>\n",
       "<font style=\"background: rgba(255, 255, 0, 0.872568)\">can</font>\n",
       "<font style=\"background: rgba(255, 255, 0, 0.913081)\">shoot</font>\n",
       "<font style=\"background: rgba(255, 255, 0, 0.908440)\">half</font>\n",
       "<font style=\"background: rgba(255, 255, 0, 0.922559)\">that</font>\n",
       "<font style=\"background: rgba(255, 255, 0, 0.976260)\">distance</font>\n",
       "<font style=\"background: rgba(255, 255, 0, 0.891932)\">.</font>\n",
       "<font style=\"background: rgba(255, 255, 0, 0.883842)\">\"</font>\n",
       "<font style=\"background: rgba(255, 255, 0, 0.896452)\">before</font>\n",
       "<font style=\"background: rgba(255, 255, 0, 0.952776)\">being</font>\n",
       "<font style=\"background: rgba(255, 255, 0, 0.952212)\">shot</font>\n",
       "<font style=\"background: rgba(255, 255, 0, 0.933279)\">and</font>\n",
       "<font style=\"background: rgba(255, 255, 0, 0.972007)\">killed</font>\n",
       "<font style=\"background: rgba(255, 255, 0, 0.930859)\">by</font>\n",
       "<font style=\"background: rgba(255, 255, 0, 0.862222)\">sabata</font>\n",
       "<font style=\"background: rgba(255, 255, 0, 0.866343)\">.</font>\n",
       "<font style=\"background: rgba(255, 255, 0, 0.838274)\">sabata</font>\n",
       "<font style=\"background: rgba(255, 255, 0, 0.902856)\">uses</font>\n",
       "<font style=\"background: rgba(255, 255, 0, 0.951457)\">his</font>\n",
       "<font style=\"background: rgba(255, 255, 0, 0.959547)\">rifle</font>\n",
       "<font style=\"background: rgba(255, 255, 0, 0.891794)\">to</font>\n",
       "<font style=\"background: rgba(255, 255, 0, 0.883271)\">kill</font>\n",
       "<font style=\"background: rgba(255, 255, 0, 0.903723)\">six</font>\n"
      ],
      "text/plain": [
       "<IPython.core.display.HTML object>"
      ]
     },
     "metadata": {},
     "output_type": "display_data"
    }
   ],
   "source": [
    "with open('visual.html','r') as f:\n",
    "    text = f.read()\n",
    "    display(HTML(text))"
   ]
  }
 ],
 "metadata": {
  "kernelspec": {
   "display_name": "Python 2",
   "language": "python",
   "name": "python2"
  },
  "language_info": {
   "codemirror_mode": {
    "name": "ipython",
    "version": 2
   },
   "file_extension": ".py",
   "mimetype": "text/x-python",
   "name": "python",
   "nbconvert_exporter": "python",
   "pygments_lexer": "ipython2",
   "version": "2.7.13"
  }
 },
 "nbformat": 4,
 "nbformat_minor": 2
}
