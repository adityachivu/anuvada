{
 "cells": [
  {
   "cell_type": "markdown",
   "metadata": {},
   "source": [
    "### Importing libraries"
   ]
  },
  {
   "cell_type": "code",
   "execution_count": 1,
   "metadata": {
    "collapsed": true
   },
   "outputs": [],
   "source": [
    "import anuvada\n",
    "import numpy as np\n",
    "import torch\n",
    "import pandas as pd"
   ]
  },
  {
   "cell_type": "code",
   "execution_count": 2,
   "metadata": {
    "collapsed": true
   },
   "outputs": [],
   "source": [
    "from anuvada.models.classification_attention_rnn import AttentionClassifier"
   ]
  },
  {
   "cell_type": "markdown",
   "metadata": {},
   "source": [
    "### Creating the dataset"
   ]
  },
  {
   "cell_type": "code",
   "execution_count": 3,
   "metadata": {
    "collapsed": true
   },
   "outputs": [],
   "source": [
    "from anuvada.datasets.data_loader import CreateDataset\n",
    "from anuvada.datasets.data_loader import LoadData"
   ]
  },
  {
   "cell_type": "code",
   "execution_count": 4,
   "metadata": {
    "collapsed": true
   },
   "outputs": [],
   "source": [
    "data = CreateDataset()"
   ]
  },
  {
   "cell_type": "code",
   "execution_count": 5,
   "metadata": {
    "collapsed": true
   },
   "outputs": [],
   "source": [
    "df = pd.read_csv('/home/sandeep/PycharmProjects/MovieSummaries/movie_summary_filtered.csv')"
   ]
  },
  {
   "cell_type": "code",
   "execution_count": 6,
   "metadata": {
    "collapsed": true
   },
   "outputs": [],
   "source": [
    "# passing only the first 512 samples, I don't have a GPU!\n",
    "y = list(df.Genre.values)[0:512]\n",
    "x = list(df.summary.values)[0:512]"
   ]
  },
  {
   "cell_type": "code",
   "execution_count": 7,
   "metadata": {},
   "outputs": [],
   "source": [
    "x, y = data.create_dataset(x,y, folder_path='test', max_doc_tokens=500)"
   ]
  },
  {
   "cell_type": "markdown",
   "metadata": {},
   "source": [
    "### Loading created dataset"
   ]
  },
  {
   "cell_type": "code",
   "execution_count": 8,
   "metadata": {
    "collapsed": true
   },
   "outputs": [],
   "source": [
    "l = LoadData()"
   ]
  },
  {
   "cell_type": "code",
   "execution_count": 9,
   "metadata": {
    "collapsed": true
   },
   "outputs": [],
   "source": [
    "x, y, token2id, label2id, lengths_mask = l.load_data_from_path('test')"
   ]
  },
  {
   "cell_type": "code",
   "execution_count": 10,
   "metadata": {
    "collapsed": true
   },
   "outputs": [],
   "source": [
    "id2token = {v: k for k, v in token2id.iteritems()}"
   ]
  },
  {
   "cell_type": "markdown",
   "metadata": {},
   "source": [
    "### Change into torch vectors"
   ]
  },
  {
   "cell_type": "code",
   "execution_count": 11,
   "metadata": {
    "collapsed": true
   },
   "outputs": [],
   "source": [
    "x = torch.from_numpy(x)"
   ]
  },
  {
   "cell_type": "code",
   "execution_count": 12,
   "metadata": {},
   "outputs": [],
   "source": [
    "y = torch.from_numpy(y)"
   ]
  },
  {
   "cell_type": "markdown",
   "metadata": {},
   "source": [
    "### Create attention classifier"
   ]
  },
  {
   "cell_type": "code",
   "execution_count": 13,
   "metadata": {},
   "outputs": [
    {
     "data": {
      "text/plain": [
       "3221"
      ]
     },
     "execution_count": 13,
     "metadata": {},
     "output_type": "execute_result"
    }
   ],
   "source": [
    "len(token2id) + 1"
   ]
  },
  {
   "cell_type": "code",
   "execution_count": 16,
   "metadata": {},
   "outputs": [],
   "source": [
    "acf = AttentionClassifier(vocab_size=len(token2id)+2,embed_size=25,gru_hidden=25,n_classes=len(label2id))"
   ]
  },
  {
   "cell_type": "code",
   "execution_count": 17,
   "metadata": {},
   "outputs": [
    {
     "name": "stdout",
     "output_type": "stream",
     "text": [
      "Epoch 1 / 1\n",
      "[========================================] 100%\tloss: 3.9753loss: 3.9753    val_loss: 3.9676\n",
      "\n"
     ]
    }
   ],
   "source": [
    "loss = acf.fit(x,y, lengths_mask ,epochs=1,validation_split=0.5)"
   ]
  },
  {
   "cell_type": "markdown",
   "metadata": {},
   "source": [
    "### Predicting"
   ]
  },
  {
   "cell_type": "code",
   "execution_count": 18,
   "metadata": {},
   "outputs": [
    {
     "data": {
      "text/plain": [
       "\n",
       "-2.4637e-01  1.1048e-01  9.9882e-02  ...  -9.1577e-02 -1.7573e-01  9.5806e-02\n",
       "-2.3346e-01  8.5856e-02  9.1159e-02  ...  -8.5662e-02 -1.8413e-01  1.0112e-01\n",
       "-2.5252e-01  8.4982e-02  5.7943e-02  ...  -1.0694e-01 -1.5059e-01  1.1093e-01\n",
       "                ...                   ⋱                   ...                \n",
       "-1.4693e-01  1.0796e-01  9.1487e-02  ...  -5.7788e-02 -4.7728e-02  5.4942e-02\n",
       "-1.9397e-01  8.3732e-02  1.1049e-01  ...  -1.0310e-01 -6.3189e-02  4.8373e-02\n",
       "-1.9082e-01  8.8022e-02  8.6270e-02  ...  -8.5984e-02 -4.8252e-02  3.8285e-02\n",
       "[torch.FloatTensor of size 512x53]"
      ]
     },
     "execution_count": 18,
     "metadata": {},
     "output_type": "execute_result"
    }
   ],
   "source": [
    "acf.predict(x, lengths_mask)"
   ]
  },
  {
   "cell_type": "code",
   "execution_count": 19,
   "metadata": {},
   "outputs": [],
   "source": [
    "# torch.sum(acf.get_attention(x[0:64], lengths_mask[0:64]),dim=1)"
   ]
  },
  {
   "cell_type": "code",
   "execution_count": 20,
   "metadata": {},
   "outputs": [],
   "source": [
    "acf.visualize_attention(x[0:64],lengths_mask[0:64], id2token, 'visual.html')"
   ]
  },
  {
   "cell_type": "code",
   "execution_count": 21,
   "metadata": {
    "collapsed": true
   },
   "outputs": [],
   "source": [
    "from IPython.core.display import display, HTML"
   ]
  },
  {
   "cell_type": "code",
   "execution_count": 22,
   "metadata": {},
   "outputs": [
    {
     "data": {
      "text/html": [
       "<font style=\"background: rgba(255, 255, 0, 0.871719)\">{</font>\n",
       "<font style=\"background: rgba(255, 255, 0, 0.872687)\">{</font>\n",
       "<font style=\"background: rgba(255, 255, 0, 0.895724)\">plot</font>\n",
       "<font style=\"background: rgba(255, 255, 0, 0.987576)\">}</font>\n",
       "<font style=\"background: rgba(255, 255, 0, 1.000000)\">}</font>\n",
       "<font style=\"background: rgba(255, 255, 0, 0.957906)\">the</font>\n",
       "<font style=\"background: rgba(255, 255, 0, 0.919818)\">virginia</font>\n",
       "<font style=\"background: rgba(255, 255, 0, 0.821734)\">brothers</font>\n",
       "<font style=\"background: rgba(255, 255, 0, 0.873864)\">,</font>\n",
       "<font style=\"background: rgba(255, 255, 0, 0.910192)\">a</font>\n",
       "<font style=\"background: rgba(255, 255, 0, 0.900065)\">team</font>\n",
       "<font style=\"background: rgba(255, 255, 0, 0.960906)\">of</font>\n",
       "<font style=\"background: rgba(255, 255, 0, 0.877988)\">_UNK</font>\n",
       "<font style=\"background: rgba(255, 255, 0, 0.877998)\">,</font>\n",
       "<font style=\"background: rgba(255, 255, 0, 0.804839)\">along</font>\n",
       "<font style=\"background: rgba(255, 255, 0, 0.834989)\">with</font>\n",
       "<font style=\"background: rgba(255, 255, 0, 0.886669)\">a</font>\n",
       "<font style=\"background: rgba(255, 255, 0, 0.834707)\">_UNK</font>\n",
       "<font style=\"background: rgba(255, 255, 0, 0.976037)\">of</font>\n",
       "<font style=\"background: rgba(255, 255, 0, 0.975303)\">stengel</font>\n",
       "<font style=\"background: rgba(255, 255, 0, 0.880996)\">'s</font>\n",
       "<font style=\"background: rgba(255, 255, 0, 0.916787)\">henchmen</font>\n",
       "<font style=\"background: rgba(255, 255, 0, 0.882539)\">,</font>\n",
       "<font style=\"background: rgba(255, 255, 0, 0.857852)\">rob</font>\n",
       "<font style=\"background: rgba(255, 255, 0, 0.911466)\">the</font>\n",
       "<font style=\"background: rgba(255, 255, 0, 0.895821)\">town</font>\n",
       "<font style=\"background: rgba(255, 255, 0, 0.913778)\">bank</font>\n",
       "<font style=\"background: rgba(255, 255, 0, 0.866967)\">.</font>\n",
       "<font style=\"background: rgba(255, 255, 0, 0.895361)\">the</font>\n",
       "<font style=\"background: rgba(255, 255, 0, 0.836883)\">_UNK</font>\n",
       "<font style=\"background: rgba(255, 255, 0, 0.835233)\">are</font>\n",
       "<font style=\"background: rgba(255, 255, 0, 0.832873)\">able</font>\n",
       "<font style=\"background: rgba(255, 255, 0, 0.852691)\">to</font>\n",
       "<font style=\"background: rgba(255, 255, 0, 0.841705)\">_UNK</font>\n",
       "<font style=\"background: rgba(255, 255, 0, 0.921928)\">into</font>\n",
       "<font style=\"background: rgba(255, 255, 0, 0.903208)\">the</font>\n",
       "<font style=\"background: rgba(255, 255, 0, 0.909133)\">banks</font>\n",
       "<font style=\"background: rgba(255, 255, 0, 0.871824)\">_UNK</font>\n",
       "<font style=\"background: rgba(255, 255, 0, 0.917702)\">window</font>\n",
       "<font style=\"background: rgba(255, 255, 0, 0.886028)\">and</font>\n",
       "<font style=\"background: rgba(255, 255, 0, 0.865803)\">kill</font>\n",
       "<font style=\"background: rgba(255, 255, 0, 0.867734)\">all</font>\n",
       "<font style=\"background: rgba(255, 255, 0, 0.889860)\">the</font>\n",
       "<font style=\"background: rgba(255, 255, 0, 0.887338)\">guards</font>\n",
       "<font style=\"background: rgba(255, 255, 0, 0.872716)\">.</font>\n",
       "<font style=\"background: rgba(255, 255, 0, 0.909844)\">the</font>\n",
       "<font style=\"background: rgba(255, 255, 0, 0.889443)\">robbers</font>\n",
       "<font style=\"background: rgba(255, 255, 0, 0.902290)\">then</font>\n",
       "<font style=\"background: rgba(255, 255, 0, 0.856666)\">load</font>\n",
       "<font style=\"background: rgba(255, 255, 0, 0.915967)\">the</font>\n",
       "<font style=\"background: rgba(255, 255, 0, 0.907991)\">town</font>\n",
       "<font style=\"background: rgba(255, 255, 0, 0.897054)\">safe</font>\n",
       "<font style=\"background: rgba(255, 255, 0, 0.962366)\">into</font>\n",
       "<font style=\"background: rgba(255, 255, 0, 0.941023)\">a</font>\n",
       "<font style=\"background: rgba(255, 255, 0, 0.871863)\">wagon</font>\n",
       "<font style=\"background: rgba(255, 255, 0, 0.860934)\">and</font>\n",
       "<font style=\"background: rgba(255, 255, 0, 0.842503)\">escape</font>\n",
       "<font style=\"background: rgba(255, 255, 0, 0.809675)\">with</font>\n",
       "<font style=\"background: rgba(255, 255, 0, 0.825790)\">_UNK</font>\n",
       "<font style=\"background: rgba(255, 255, 0, 0.935908)\">dollars</font>\n",
       "<font style=\"background: rgba(255, 255, 0, 0.895324)\">.</font>\n",
       "<font style=\"background: rgba(255, 255, 0, 0.919001)\">just</font>\n",
       "<font style=\"background: rgba(255, 255, 0, 0.852553)\">as</font>\n",
       "<font style=\"background: rgba(255, 255, 0, 0.890623)\">they</font>\n",
       "<font style=\"background: rgba(255, 255, 0, 0.880918)\">leave</font>\n",
       "<font style=\"background: rgba(255, 255, 0, 0.912930)\">the</font>\n",
       "<font style=\"background: rgba(255, 255, 0, 0.907452)\">town</font>\n",
       "<font style=\"background: rgba(255, 255, 0, 0.895431)\">,</font>\n",
       "<font style=\"background: rgba(255, 255, 0, 0.882122)\">sabata</font>\n",
       "<font style=\"background: rgba(255, 255, 0, 0.884664)\"> </font>\n",
       "<font style=\"background: rgba(255, 255, 0, 0.879006)\">rides</font>\n",
       "<font style=\"background: rgba(255, 255, 0, 0.870288)\">in</font>\n",
       "<font style=\"background: rgba(255, 255, 0, 0.858230)\">.</font>\n",
       "<font style=\"background: rgba(255, 255, 0, 0.826812)\">outside</font>\n",
       "<font style=\"background: rgba(255, 255, 0, 0.893493)\">the</font>\n",
       "<font style=\"background: rgba(255, 255, 0, 0.889852)\">town</font>\n",
       "<font style=\"background: rgba(255, 255, 0, 0.889095)\">saloon</font>\n",
       "<font style=\"background: rgba(255, 255, 0, 0.857020)\">,</font>\n",
       "<font style=\"background: rgba(255, 255, 0, 0.836174)\">carrincha</font>\n",
       "<font style=\"background: rgba(255, 255, 0, 0.827452)\">has</font>\n",
       "<font style=\"background: rgba(255, 255, 0, 0.828694)\">been</font>\n",
       "<font style=\"background: rgba(255, 255, 0, 0.843034)\">_UNK</font>\n",
       "<font style=\"background: rgba(255, 255, 0, 0.941609)\">into</font>\n",
       "<font style=\"background: rgba(255, 255, 0, 0.931604)\">the</font>\n",
       "<font style=\"background: rgba(255, 255, 0, 0.909721)\">street</font>\n",
       "<font style=\"background: rgba(255, 255, 0, 0.904101)\">for</font>\n",
       "<font style=\"background: rgba(255, 255, 0, 0.913186)\">not</font>\n",
       "<font style=\"background: rgba(255, 255, 0, 0.909638)\">having</font>\n",
       "<font style=\"background: rgba(255, 255, 0, 0.897635)\">any</font>\n",
       "<font style=\"background: rgba(255, 255, 0, 0.897050)\">money</font>\n",
       "<font style=\"background: rgba(255, 255, 0, 0.863403)\">.</font>\n",
       "<font style=\"background: rgba(255, 255, 0, 0.874508)\">seeing</font>\n",
       "<font style=\"background: rgba(255, 255, 0, 0.868361)\">his</font>\n",
       "<font style=\"background: rgba(255, 255, 0, 0.903145)\">friend</font>\n",
       "<font style=\"background: rgba(255, 255, 0, 0.917644)\">alley</font>\n",
       "<font style=\"background: rgba(255, 255, 0, 0.869773)\">cat</font>\n",
       "<font style=\"background: rgba(255, 255, 0, 0.857045)\">,</font>\n",
       "<font style=\"background: rgba(255, 255, 0, 0.832367)\">carrincha</font>\n",
       "<font style=\"background: rgba(255, 255, 0, 0.856568)\">yells</font>\n",
       "<font style=\"background: rgba(255, 255, 0, 0.849194)\">at</font>\n",
       "<font style=\"background: rgba(255, 255, 0, 0.910858)\">him</font>\n",
       "<font style=\"background: rgba(255, 255, 0, 0.880527)\">,</font>\n",
       "<font style=\"background: rgba(255, 255, 0, 0.877324)\">and</font>\n",
       "<font style=\"background: rgba(255, 255, 0, 0.854052)\">starts</font>\n",
       "<font style=\"background: rgba(255, 255, 0, 0.829771)\">to</font>\n",
       "<font style=\"background: rgba(255, 255, 0, 0.825738)\">_UNK</font>\n",
       "<font style=\"background: rgba(255, 255, 0, 0.866085)\">about</font>\n",
       "<font style=\"background: rgba(255, 255, 0, 0.858038)\">how</font>\n",
       "<font style=\"background: rgba(255, 255, 0, 0.826934)\">_UNK</font>\n",
       "<font style=\"background: rgba(255, 255, 0, 0.827293)\">_UNK</font>\n",
       "<font style=\"background: rgba(255, 255, 0, 0.874368)\">life</font>\n",
       "<font style=\"background: rgba(255, 255, 0, 0.901098)\">is</font>\n",
       "<font style=\"background: rgba(255, 255, 0, 0.903556)\">,</font>\n",
       "<font style=\"background: rgba(255, 255, 0, 0.898487)\">then</font>\n",
       "<font style=\"background: rgba(255, 255, 0, 0.887463)\">seeing</font>\n",
       "<font style=\"background: rgba(255, 255, 0, 0.869926)\">sabata</font>\n",
       "<font style=\"background: rgba(255, 255, 0, 0.849465)\">,</font>\n",
       "<font style=\"background: rgba(255, 255, 0, 0.830553)\">continues</font>\n",
       "<font style=\"background: rgba(255, 255, 0, 0.865653)\">about</font>\n",
       "<font style=\"background: rgba(255, 255, 0, 0.863807)\">how</font>\n",
       "<font style=\"background: rgba(255, 255, 0, 0.850302)\">his</font>\n",
       "<font style=\"background: rgba(255, 255, 0, 0.910533)\">civil</font>\n",
       "<font style=\"background: rgba(255, 255, 0, 0.883933)\">war</font>\n",
       "<font style=\"background: rgba(255, 255, 0, 0.850223)\">_UNK</font>\n",
       "<font style=\"background: rgba(255, 255, 0, 0.865943)\">could</font>\n",
       "<font style=\"background: rgba(255, 255, 0, 0.866361)\">n't</font>\n",
       "<font style=\"background: rgba(255, 255, 0, 0.834096)\">even</font>\n",
       "<font style=\"background: rgba(255, 255, 0, 0.869686)\">be</font>\n",
       "<font style=\"background: rgba(255, 255, 0, 0.851678)\">_UNK</font>\n",
       "<font style=\"background: rgba(255, 255, 0, 0.904902)\">for</font>\n",
       "<font style=\"background: rgba(255, 255, 0, 0.912746)\">a</font>\n",
       "<font style=\"background: rgba(255, 255, 0, 0.863222)\">bottle</font>\n",
       "<font style=\"background: rgba(255, 255, 0, 0.957888)\">of</font>\n",
       "<font style=\"background: rgba(255, 255, 0, 0.873929)\">_UNK</font>\n",
       "<font style=\"background: rgba(255, 255, 0, 0.889537)\">.</font>\n",
       "<font style=\"background: rgba(255, 255, 0, 0.879356)\">sabata</font>\n",
       "<font style=\"background: rgba(255, 255, 0, 0.842366)\">,</font>\n",
       "<font style=\"background: rgba(255, 255, 0, 0.836506)\">_UNK</font>\n",
       "<font style=\"background: rgba(255, 255, 0, 0.868128)\">,</font>\n",
       "<font style=\"background: rgba(255, 255, 0, 0.851066)\">takes</font>\n",
       "<font style=\"background: rgba(255, 255, 0, 0.900497)\">out</font>\n",
       "<font style=\"background: rgba(255, 255, 0, 0.896455)\">a</font>\n",
       "<font style=\"background: rgba(255, 255, 0, 0.841633)\">_UNK</font>\n",
       "<font style=\"background: rgba(255, 255, 0, 0.858492)\">_UNK</font>\n",
       "<font style=\"background: rgba(255, 255, 0, 0.884336)\">and</font>\n",
       "<font style=\"background: rgba(255, 255, 0, 0.857657)\">tosses</font>\n",
       "<font style=\"background: rgba(255, 255, 0, 0.872766)\">it</font>\n",
       "<font style=\"background: rgba(255, 255, 0, 0.935902)\">into</font>\n",
       "<font style=\"background: rgba(255, 255, 0, 0.851746)\">carrincha</font>\n",
       "<font style=\"background: rgba(255, 255, 0, 0.825582)\">'s</font>\n",
       "<font style=\"background: rgba(255, 255, 0, 0.842690)\">hand</font>\n",
       "<font style=\"background: rgba(255, 255, 0, 0.865052)\">.</font>\n",
       "<font style=\"background: rgba(255, 255, 0, 0.865408)\">carrincha</font>\n",
       "<font style=\"background: rgba(255, 255, 0, 0.888804)\">happily</font>\n",
       "<font style=\"background: rgba(255, 255, 0, 0.908018)\">re</font>\n",
       "<font style=\"background: rgba(255, 255, 0, 0.877181)\">-</font>\n",
       "<font style=\"background: rgba(255, 255, 0, 0.865642)\">enters</font>\n",
       "<font style=\"background: rgba(255, 255, 0, 0.917404)\">the</font>\n",
       "<font style=\"background: rgba(255, 255, 0, 0.891873)\">saloon</font>\n",
       "<font style=\"background: rgba(255, 255, 0, 0.858891)\">and</font>\n",
       "<font style=\"background: rgba(255, 255, 0, 0.873926)\">buys</font>\n",
       "<font style=\"background: rgba(255, 255, 0, 0.923558)\">a</font>\n",
       "<font style=\"background: rgba(255, 255, 0, 0.951582)\">drink</font>\n",
       "<font style=\"background: rgba(255, 255, 0, 0.890959)\">.</font>\n",
       "<font style=\"background: rgba(255, 255, 0, 0.873236)\">sabata</font>\n",
       "<font style=\"background: rgba(255, 255, 0, 0.850395)\">enters</font>\n",
       "<font style=\"background: rgba(255, 255, 0, 0.914229)\">the</font>\n",
       "<font style=\"background: rgba(255, 255, 0, 0.899213)\">saloon</font>\n",
       "<font style=\"background: rgba(255, 255, 0, 0.871485)\">,</font>\n",
       "<font style=\"background: rgba(255, 255, 0, 0.884453)\">and</font>\n",
       "<font style=\"background: rgba(255, 255, 0, 0.945841)\">notices</font>\n",
       "<font style=\"background: rgba(255, 255, 0, 0.873108)\">that</font>\n",
       "<font style=\"background: rgba(255, 255, 0, 0.844431)\">an</font>\n",
       "<font style=\"background: rgba(255, 255, 0, 0.809767)\">old</font>\n",
       "<font style=\"background: rgba(255, 255, 0, 0.821017)\">man</font>\n",
       "<font style=\"background: rgba(255, 255, 0, 0.871411)\">is</font>\n",
       "<font style=\"background: rgba(255, 255, 0, 0.873812)\">being</font>\n",
       "<font style=\"background: rgba(255, 255, 0, 0.865084)\">cheated</font>\n",
       "<font style=\"background: rgba(255, 255, 0, 0.899496)\">out</font>\n",
       "<font style=\"background: rgba(255, 255, 0, 0.947912)\">of</font>\n",
       "<font style=\"background: rgba(255, 255, 0, 0.887216)\">his</font>\n",
       "<font style=\"background: rgba(255, 255, 0, 0.932053)\">money</font>\n",
       "<font style=\"background: rgba(255, 255, 0, 0.900421)\">in</font>\n",
       "<font style=\"background: rgba(255, 255, 0, 0.891659)\">a</font>\n",
       "<font style=\"background: rgba(255, 255, 0, 0.830473)\">_UNK</font>\n",
       "<font style=\"background: rgba(255, 255, 0, 0.837868)\">game</font>\n",
       "<font style=\"background: rgba(255, 255, 0, 0.823302)\">.</font>\n",
       "<font style=\"background: rgba(255, 255, 0, 0.829223)\">drawing</font>\n",
       "<font style=\"background: rgba(255, 255, 0, 0.852075)\">his</font>\n",
       "<font style=\"background: rgba(255, 255, 0, 0.923926)\">pistol</font>\n",
       "<font style=\"background: rgba(255, 255, 0, 0.863705)\">,</font>\n",
       "<font style=\"background: rgba(255, 255, 0, 0.813864)\">he</font>\n",
       "<font style=\"background: rgba(255, 255, 0, 0.865808)\">blows</font>\n",
       "<font style=\"background: rgba(255, 255, 0, 0.882672)\">apart</font>\n",
       "<font style=\"background: rgba(255, 255, 0, 0.900341)\">the</font>\n",
       "<font style=\"background: rgba(255, 255, 0, 0.853013)\">_UNK</font>\n",
       "<font style=\"background: rgba(255, 255, 0, 0.871237)\">,</font>\n",
       "<font style=\"background: rgba(255, 255, 0, 0.922322)\">saying</font>\n",
       "<font style=\"background: rgba(255, 255, 0, 0.893679)\">that</font>\n",
       "<font style=\"background: rgba(255, 255, 0, 0.890638)\">they</font>\n",
       "<font style=\"background: rgba(255, 255, 0, 0.834819)\">are</font>\n",
       "<font style=\"background: rgba(255, 255, 0, 0.825652)\">_UNK</font>\n",
       "<font style=\"background: rgba(255, 255, 0, 0.860942)\">.</font>\n",
       "<font style=\"background: rgba(255, 255, 0, 0.909058)\">a</font>\n",
       "<font style=\"background: rgba(255, 255, 0, 0.838070)\">man</font>\n",
       "<font style=\"background: rgba(255, 255, 0, 0.833513)\">,</font>\n",
       "<font style=\"background: rgba(255, 255, 0, 0.859379)\">eating</font>\n",
       "<font style=\"background: rgba(255, 255, 0, 0.893047)\">dinner</font>\n",
       "<font style=\"background: rgba(255, 255, 0, 0.838233)\">across</font>\n",
       "<font style=\"background: rgba(255, 255, 0, 0.902308)\">the</font>\n",
       "<font style=\"background: rgba(255, 255, 0, 0.891357)\">saloon</font>\n",
       "<font style=\"background: rgba(255, 255, 0, 0.887970)\">starts</font>\n",
       "<font style=\"background: rgba(255, 255, 0, 0.874041)\">to</font>\n",
       "<font style=\"background: rgba(255, 255, 0, 0.914427)\">stand</font>\n",
       "<font style=\"background: rgba(255, 255, 0, 0.874774)\">up</font>\n",
       "<font style=\"background: rgba(255, 255, 0, 0.834790)\">,</font>\n",
       "<font style=\"background: rgba(255, 255, 0, 0.865113)\">but</font>\n",
       "<font style=\"background: rgba(255, 255, 0, 0.849570)\">sabata</font>\n",
       "<font style=\"background: rgba(255, 255, 0, 0.832953)\">_UNK</font>\n",
       "<font style=\"background: rgba(255, 255, 0, 0.859386)\">at</font>\n",
       "<font style=\"background: rgba(255, 255, 0, 0.920774)\">him</font>\n",
       "<font style=\"background: rgba(255, 255, 0, 0.881874)\">and</font>\n",
       "<font style=\"background: rgba(255, 255, 0, 0.868815)\">orders</font>\n",
       "<font style=\"background: rgba(255, 255, 0, 0.912426)\">him</font>\n",
       "<font style=\"background: rgba(255, 255, 0, 0.863243)\">to</font>\n",
       "<font style=\"background: rgba(255, 255, 0, 0.831494)\">_UNK</font>\n",
       "<font style=\"background: rgba(255, 255, 0, 0.846762)\">down</font>\n",
       "<font style=\"background: rgba(255, 255, 0, 0.850713)\">.</font>\n",
       "<font style=\"background: rgba(255, 255, 0, 0.839412)\">turning</font>\n",
       "<font style=\"background: rgba(255, 255, 0, 0.832615)\">back</font>\n",
       "<font style=\"background: rgba(255, 255, 0, 0.863819)\">to</font>\n",
       "<font style=\"background: rgba(255, 255, 0, 0.889732)\">the</font>\n",
       "<font style=\"background: rgba(255, 255, 0, 0.850642)\">_UNK</font>\n",
       "<font style=\"background: rgba(255, 255, 0, 0.876357)\">game</font>\n",
       "<font style=\"background: rgba(255, 255, 0, 0.869037)\">,</font>\n",
       "<font style=\"background: rgba(255, 255, 0, 0.875474)\">sabata</font>\n",
       "<font style=\"background: rgba(255, 255, 0, 0.898838)\">reaches</font>\n",
       "<font style=\"background: rgba(255, 255, 0, 0.888444)\">into</font>\n",
       "<font style=\"background: rgba(255, 255, 0, 0.845418)\">his</font>\n",
       "<font style=\"background: rgba(255, 255, 0, 0.857204)\">_UNK</font>\n",
       "<font style=\"background: rgba(255, 255, 0, 0.898565)\">and</font>\n",
       "<font style=\"background: rgba(255, 255, 0, 0.887627)\">pulls</font>\n",
       "<font style=\"background: rgba(255, 255, 0, 0.908519)\">out</font>\n",
       "<font style=\"background: rgba(255, 255, 0, 0.911427)\">a</font>\n",
       "<font style=\"background: rgba(255, 255, 0, 0.876280)\">pair</font>\n",
       "<font style=\"background: rgba(255, 255, 0, 0.973338)\">of</font>\n",
       "<font style=\"background: rgba(255, 255, 0, 0.936090)\">non</font>\n",
       "<font style=\"background: rgba(255, 255, 0, 0.862752)\">_UNK</font>\n",
       "<font style=\"background: rgba(255, 255, 0, 0.861631)\">_UNK</font>\n",
       "<font style=\"background: rgba(255, 255, 0, 0.887081)\">,</font>\n",
       "<font style=\"background: rgba(255, 255, 0, 0.910319)\">which</font>\n",
       "<font style=\"background: rgba(255, 255, 0, 0.816107)\">he</font>\n",
       "<font style=\"background: rgba(255, 255, 0, 0.851746)\">uses</font>\n",
       "<font style=\"background: rgba(255, 255, 0, 0.864250)\">to</font>\n",
       "<font style=\"background: rgba(255, 255, 0, 0.840073)\">win</font>\n",
       "<font style=\"background: rgba(255, 255, 0, 0.879285)\">the</font>\n",
       "<font style=\"background: rgba(255, 255, 0, 0.833952)\">old</font>\n",
       "<font style=\"background: rgba(255, 255, 0, 0.825492)\">man</font>\n",
       "<font style=\"background: rgba(255, 255, 0, 0.829756)\">his</font>\n",
       "<font style=\"background: rgba(255, 255, 0, 0.898255)\">money</font>\n",
       "<font style=\"background: rgba(255, 255, 0, 0.843099)\">back</font>\n",
       "<font style=\"background: rgba(255, 255, 0, 0.870776)\">.</font>\n",
       "<font style=\"background: rgba(255, 255, 0, 0.918039)\">the</font>\n",
       "<font style=\"background: rgba(255, 255, 0, 0.874223)\">man</font>\n",
       "<font style=\"background: rgba(255, 255, 0, 0.925998)\">whom</font>\n",
       "<font style=\"background: rgba(255, 255, 0, 0.884578)\">sabata</font>\n",
       "<font style=\"background: rgba(255, 255, 0, 0.884154)\">ordered</font>\n",
       "<font style=\"background: rgba(255, 255, 0, 0.858003)\">to</font>\n",
       "<font style=\"background: rgba(255, 255, 0, 0.837961)\">_UNK</font>\n",
       "<font style=\"background: rgba(255, 255, 0, 0.856778)\">down</font>\n",
       "<font style=\"background: rgba(255, 255, 0, 0.868252)\">starts</font>\n",
       "<font style=\"background: rgba(255, 255, 0, 0.844662)\">to</font>\n",
       "<font style=\"background: rgba(255, 255, 0, 0.840186)\">_UNK</font>\n",
       "<font style=\"background: rgba(255, 255, 0, 0.871821)\">draw</font>\n",
       "<font style=\"background: rgba(255, 255, 0, 0.901110)\">a</font>\n",
       "<font style=\"background: rgba(255, 255, 0, 0.871815)\">gun</font>\n",
       "<font style=\"background: rgba(255, 255, 0, 0.851427)\">,</font>\n",
       "<font style=\"background: rgba(255, 255, 0, 0.876052)\">but</font>\n",
       "<font style=\"background: rgba(255, 255, 0, 0.860780)\">sabata</font>\n",
       "<font style=\"background: rgba(255, 255, 0, 0.858533)\">quick</font>\n",
       "<font style=\"background: rgba(255, 255, 0, 0.875929)\">-</font>\n",
       "<font style=\"background: rgba(255, 255, 0, 0.884296)\">draws</font>\n",
       "<font style=\"background: rgba(255, 255, 0, 0.881942)\">and</font>\n",
       "<font style=\"background: rgba(255, 255, 0, 0.843318)\">_UNK</font>\n",
       "<font style=\"background: rgba(255, 255, 0, 0.907765)\">out</font>\n",
       "<font style=\"background: rgba(255, 255, 0, 0.917831)\">the</font>\n",
       "<font style=\"background: rgba(255, 255, 0, 0.862230)\">front</font>\n",
       "<font style=\"background: rgba(255, 255, 0, 0.858507)\">_UNK</font>\n",
       "<font style=\"background: rgba(255, 255, 0, 0.980599)\">of</font>\n",
       "<font style=\"background: rgba(255, 255, 0, 0.937515)\">the</font>\n",
       "<font style=\"background: rgba(255, 255, 0, 0.890354)\">chair</font>\n",
       "<font style=\"background: rgba(255, 255, 0, 0.946671)\">which</font>\n",
       "<font style=\"background: rgba(255, 255, 0, 0.924255)\">the</font>\n",
       "<font style=\"background: rgba(255, 255, 0, 0.863528)\">man</font>\n",
       "<font style=\"background: rgba(255, 255, 0, 0.826861)\">was</font>\n",
       "<font style=\"background: rgba(255, 255, 0, 0.842629)\">sitting</font>\n",
       "<font style=\"background: rgba(255, 255, 0, 0.866957)\">on</font>\n",
       "<font style=\"background: rgba(255, 255, 0, 0.859529)\">,</font>\n",
       "<font style=\"background: rgba(255, 255, 0, 0.863495)\">causing</font>\n",
       "<font style=\"background: rgba(255, 255, 0, 0.923779)\">him</font>\n",
       "<font style=\"background: rgba(255, 255, 0, 0.883552)\">to</font>\n",
       "<font style=\"background: rgba(255, 255, 0, 0.897257)\">fall</font>\n",
       "<font style=\"background: rgba(255, 255, 0, 0.864179)\">face</font>\n",
       "<font style=\"background: rgba(255, 255, 0, 0.860622)\">first</font>\n",
       "<font style=\"background: rgba(255, 255, 0, 0.911288)\">into</font>\n",
       "<font style=\"background: rgba(255, 255, 0, 0.846287)\">his</font>\n",
       "<font style=\"background: rgba(255, 255, 0, 0.909085)\">food</font>\n",
       "<font style=\"background: rgba(255, 255, 0, 0.876438)\">.</font>\n",
       "<font style=\"background: rgba(255, 255, 0, 0.848810)\">at</font>\n",
       "<font style=\"background: rgba(255, 255, 0, 0.849546)\">that</font>\n",
       "<font style=\"background: rgba(255, 255, 0, 0.854561)\">moment</font>\n",
       "<font style=\"background: rgba(255, 255, 0, 0.849032)\">,</font>\n",
       "<font style=\"background: rgba(255, 255, 0, 0.875008)\">banjo</font>\n",
       "<font style=\"background: rgba(255, 255, 0, 0.882128)\">starts</font>\n",
       "<font style=\"background: rgba(255, 255, 0, 0.868634)\">to</font>\n",
       "<font style=\"background: rgba(255, 255, 0, 0.879096)\">play</font>\n",
       "<font style=\"background: rgba(255, 255, 0, 0.874427)\">a</font>\n",
       "<font style=\"background: rgba(255, 255, 0, 0.816138)\">_UNK</font>\n",
       "<font style=\"background: rgba(255, 255, 0, 0.853052)\">on</font>\n",
       "<font style=\"background: rgba(255, 255, 0, 0.848115)\">his</font>\n",
       "<font style=\"background: rgba(255, 255, 0, 0.887413)\">banjo</font>\n",
       "<font style=\"background: rgba(255, 255, 0, 0.872218)\">.</font>\n",
       "<font style=\"background: rgba(255, 255, 0, 0.905793)\">the</font>\n",
       "<font style=\"background: rgba(255, 255, 0, 0.846433)\">man</font>\n",
       "<font style=\"background: rgba(255, 255, 0, 0.844226)\">screams</font>\n",
       "<font style=\"background: rgba(255, 255, 0, 0.833884)\">at</font>\n",
       "<font style=\"background: rgba(255, 255, 0, 0.905386)\">him</font>\n",
       "<font style=\"background: rgba(255, 255, 0, 0.859292)\">to</font>\n",
       "<font style=\"background: rgba(255, 255, 0, 0.790904)\">stop</font>\n",
       "<font style=\"background: rgba(255, 255, 0, 0.837135)\">,</font>\n",
       "<font style=\"background: rgba(255, 255, 0, 0.850565)\">and</font>\n",
       "<font style=\"background: rgba(255, 255, 0, 0.843087)\">banjo</font>\n",
       "<font style=\"background: rgba(255, 255, 0, 0.840847)\">_UNK</font>\n",
       "<font style=\"background: rgba(255, 255, 0, 0.860327)\">,</font>\n",
       "<font style=\"background: rgba(255, 255, 0, 0.924402)\">saying</font>\n",
       "<font style=\"background: rgba(255, 255, 0, 0.908608)\"> </font>\n",
       "<font style=\"background: rgba(255, 255, 0, 0.863683)\">that</font>\n",
       "<font style=\"background: rgba(255, 255, 0, 0.812300)\">he</font>\n",
       "<font style=\"background: rgba(255, 255, 0, 0.906682)\">thought</font>\n",
       "<font style=\"background: rgba(255, 255, 0, 0.899647)\">the</font>\n",
       "<font style=\"background: rgba(255, 255, 0, 0.818750)\">man</font>\n",
       "<font style=\"background: rgba(255, 255, 0, 0.810988)\">_UNK</font>\n",
       "<font style=\"background: rgba(255, 255, 0, 0.845958)\">music</font>\n",
       "<font style=\"background: rgba(255, 255, 0, 0.811836)\">with</font>\n",
       "<font style=\"background: rgba(255, 255, 0, 0.817619)\">his</font>\n",
       "<font style=\"background: rgba(255, 255, 0, 0.816879)\">_UNK</font>\n",
       "<font style=\"background: rgba(255, 255, 0, 0.858012)\">.</font>\n",
       "<font style=\"background: rgba(255, 255, 0, 0.855684)\">carrincha</font>\n",
       "<font style=\"background: rgba(255, 255, 0, 0.856979)\">starts</font>\n",
       "<font style=\"background: rgba(255, 255, 0, 0.832292)\">to</font>\n",
       "<font style=\"background: rgba(255, 255, 0, 0.815535)\">_UNK</font>\n",
       "<font style=\"background: rgba(255, 255, 0, 0.853539)\">that</font>\n",
       "<font style=\"background: rgba(255, 255, 0, 0.804353)\">he</font>\n",
       "<font style=\"background: rgba(255, 255, 0, 0.834878)\">once</font>\n",
       "<font style=\"background: rgba(255, 255, 0, 0.849813)\">saw</font>\n",
       "<font style=\"background: rgba(255, 255, 0, 0.830793)\">sabata</font>\n",
       "<font style=\"background: rgba(255, 255, 0, 0.824327)\">kill</font>\n",
       "<font style=\"background: rgba(255, 255, 0, 0.808414)\">twenty</font>\n",
       "<font style=\"background: rgba(255, 255, 0, 0.847980)\">men</font>\n",
       "<font style=\"background: rgba(255, 255, 0, 0.855492)\">in</font>\n",
       "<font style=\"background: rgba(255, 255, 0, 0.819186)\">ten</font>\n",
       "<font style=\"background: rgba(255, 255, 0, 0.812406)\">_UNK</font>\n",
       "<font style=\"background: rgba(255, 255, 0, 0.861507)\">on</font>\n",
       "<font style=\"background: rgba(255, 255, 0, 0.874954)\">a</font>\n",
       "<font style=\"background: rgba(255, 255, 0, 0.826799)\">_UNK</font>\n",
       "<font style=\"background: rgba(255, 255, 0, 0.884439)\">black</font>\n",
       "<font style=\"background: rgba(255, 255, 0, 0.835611)\">night</font>\n",
       "<font style=\"background: rgba(255, 255, 0, 0.856419)\">.</font>\n",
       "<font style=\"background: rgba(255, 255, 0, 0.887465)\">a</font>\n",
       "<font style=\"background: rgba(255, 255, 0, 0.838197)\">mortally</font>\n",
       "<font style=\"background: rgba(255, 255, 0, 0.920869)\">wounded</font>\n",
       "<font style=\"background: rgba(255, 255, 0, 0.935406)\">bank</font>\n",
       "<font style=\"background: rgba(255, 255, 0, 0.893938)\">guard</font>\n",
       "<font style=\"background: rgba(255, 255, 0, 0.902734)\">bursts</font>\n",
       "<font style=\"background: rgba(255, 255, 0, 0.925845)\">into</font>\n",
       "<font style=\"background: rgba(255, 255, 0, 0.913736)\">the</font>\n",
       "<font style=\"background: rgba(255, 255, 0, 0.884848)\">saloon</font>\n",
       "<font style=\"background: rgba(255, 255, 0, 0.853030)\">,</font>\n",
       "<font style=\"background: rgba(255, 255, 0, 0.824248)\">tells</font>\n",
       "<font style=\"background: rgba(255, 255, 0, 0.872096)\">everyone</font>\n",
       "<font style=\"background: rgba(255, 255, 0, 0.907085)\">the</font>\n",
       "<font style=\"background: rgba(255, 255, 0, 0.906825)\">bank</font>\n",
       "<font style=\"background: rgba(255, 255, 0, 0.841077)\">'s</font>\n",
       "<font style=\"background: rgba(255, 255, 0, 0.844662)\">been</font>\n",
       "<font style=\"background: rgba(255, 255, 0, 0.842681)\">_UNK</font>\n",
       "<font style=\"background: rgba(255, 255, 0, 0.886062)\">,</font>\n",
       "<font style=\"background: rgba(255, 255, 0, 0.886898)\">and</font>\n",
       "<font style=\"background: rgba(255, 255, 0, 0.910539)\">dies</font>\n",
       "<font style=\"background: rgba(255, 255, 0, 0.874637)\">.</font>\n",
       "<font style=\"background: rgba(255, 255, 0, 0.888269)\">everyone</font>\n",
       "<font style=\"background: rgba(255, 255, 0, 0.869164)\">panics</font>\n",
       "<font style=\"background: rgba(255, 255, 0, 0.878085)\">,</font>\n",
       "<font style=\"background: rgba(255, 255, 0, 0.877555)\">running</font>\n",
       "<font style=\"background: rgba(255, 255, 0, 0.881653)\">to</font>\n",
       "<font style=\"background: rgba(255, 255, 0, 0.907631)\">the</font>\n",
       "<font style=\"background: rgba(255, 255, 0, 0.910455)\">bank</font>\n",
       "<font style=\"background: rgba(255, 255, 0, 0.882038)\">.</font>\n",
       "<font style=\"background: rgba(255, 255, 0, 0.911479)\">the</font>\n",
       "<font style=\"background: rgba(255, 255, 0, 0.971607)\">local</font>\n",
       "<font style=\"background: rgba(255, 255, 0, 0.891819)\">military</font>\n",
       "<font style=\"background: rgba(255, 255, 0, 0.956916)\">commander</font>\n",
       "<font style=\"background: rgba(255, 255, 0, 0.996662)\">will</font>\n",
       "<font style=\"background: rgba(255, 255, 0, 0.904891)\">have</font>\n",
       "<font style=\"background: rgba(255, 255, 0, 0.904141)\">to</font>\n",
       "<font style=\"background: rgba(255, 255, 0, 0.926179)\">be</font>\n",
       "<font style=\"background: rgba(255, 255, 0, 0.927324)\">told</font>\n",
       "<font style=\"background: rgba(255, 255, 0, 0.872057)\">,</font>\n",
       "<font style=\"background: rgba(255, 255, 0, 0.862307)\">and</font>\n",
       "<font style=\"background: rgba(255, 255, 0, 0.824036)\">_UNK</font>\n",
       "<font style=\"background: rgba(255, 255, 0, 0.839153)\">_UNK</font>\n",
       "<font style=\"background: rgba(255, 255, 0, 0.905172)\">in</font>\n",
       "<font style=\"background: rgba(255, 255, 0, 0.935256)\">the</font>\n",
       "<font style=\"background: rgba(255, 255, 0, 0.939250)\">morning</font>\n",
       "<font style=\"background: rgba(255, 255, 0, 0.895258)\">.</font>\n",
       "<font style=\"background: rgba(255, 255, 0, 0.909221)\">the</font>\n",
       "<font style=\"background: rgba(255, 255, 0, 0.872359)\">robbers</font>\n",
       "<font style=\"background: rgba(255, 255, 0, 0.885686)\"> </font>\n",
       "<font style=\"background: rgba(255, 255, 0, 0.844272)\">are</font>\n",
       "<font style=\"background: rgba(255, 255, 0, 0.872162)\">riding</font>\n",
       "<font style=\"background: rgba(255, 255, 0, 0.888633)\">away</font>\n",
       "<font style=\"background: rgba(255, 255, 0, 0.912156)\">from</font>\n",
       "<font style=\"background: rgba(255, 255, 0, 0.913397)\">the</font>\n",
       "<font style=\"background: rgba(255, 255, 0, 0.895501)\">town</font>\n",
       "<font style=\"background: rgba(255, 255, 0, 0.879024)\">,</font>\n",
       "<font style=\"background: rgba(255, 255, 0, 0.872885)\">when</font>\n",
       "<font style=\"background: rgba(255, 255, 0, 0.888768)\">they</font>\n",
       "<font style=\"background: rgba(255, 255, 0, 0.848763)\">notice</font>\n",
       "<font style=\"background: rgba(255, 255, 0, 0.859585)\">sabata</font>\n",
       "<font style=\"background: rgba(255, 255, 0, 0.874066)\">is</font>\n",
       "<font style=\"background: rgba(255, 255, 0, 0.873174)\">standing</font>\n",
       "<font style=\"background: rgba(255, 255, 0, 0.868266)\">in</font>\n",
       "<font style=\"background: rgba(255, 255, 0, 0.860516)\">their</font>\n",
       "<font style=\"background: rgba(255, 255, 0, 0.868948)\">path</font>\n",
       "<font style=\"background: rgba(255, 255, 0, 0.841924)\">,</font>\n",
       "<font style=\"background: rgba(255, 255, 0, 0.818137)\">_UNK</font>\n",
       "<font style=\"background: rgba(255, 255, 0, 0.846979)\">-</font>\n",
       "<font style=\"background: rgba(255, 255, 0, 0.832040)\">_UNK</font>\n",
       "<font style=\"background: rgba(255, 255, 0, 0.832914)\">_UNK</font>\n",
       "<font style=\"background: rgba(255, 255, 0, 0.844203)\">_UNK</font>\n",
       "<font style=\"background: rgba(255, 255, 0, 0.973894)\">of</font>\n",
       "<font style=\"background: rgba(255, 255, 0, 0.901316)\">them</font>\n",
       "<font style=\"background: rgba(255, 255, 0, 0.857058)\">.</font>\n",
       "<font style=\"background: rgba(255, 255, 0, 0.858244)\">_UNK</font>\n",
       "<font style=\"background: rgba(255, 255, 0, 0.914229)\">a</font>\n",
       "<font style=\"background: rgba(255, 255, 0, 0.896297)\">rifle</font>\n",
       "<font style=\"background: rgba(255, 255, 0, 0.881257)\">at</font>\n",
       "<font style=\"background: rgba(255, 255, 0, 0.902044)\">the</font>\n",
       "<font style=\"background: rgba(255, 255, 0, 0.864916)\">robbers</font>\n",
       "<font style=\"background: rgba(255, 255, 0, 0.861110)\">,</font>\n",
       "<font style=\"background: rgba(255, 255, 0, 0.853245)\">sabata</font>\n",
       "<font style=\"background: rgba(255, 255, 0, 0.855827)\">yells</font>\n",
       "<font style=\"background: rgba(255, 255, 0, 0.845162)\">at</font>\n",
       "<font style=\"background: rgba(255, 255, 0, 0.862883)\">them</font>\n",
       "<font style=\"background: rgba(255, 255, 0, 0.853418)\">to</font>\n",
       "<font style=\"background: rgba(255, 255, 0, 0.842276)\">go</font>\n",
       "<font style=\"background: rgba(255, 255, 0, 0.831879)\">back</font>\n",
       "<font style=\"background: rgba(255, 255, 0, 0.867666)\">to</font>\n",
       "<font style=\"background: rgba(255, 255, 0, 0.891063)\">the</font>\n",
       "<font style=\"background: rgba(255, 255, 0, 0.876440)\">town</font>\n",
       "<font style=\"background: rgba(255, 255, 0, 0.882674)\">.</font>\n",
       "<font style=\"background: rgba(255, 255, 0, 0.914095)\">one</font>\n",
       "<font style=\"background: rgba(255, 255, 0, 0.976194)\">of</font>\n",
       "<font style=\"background: rgba(255, 255, 0, 0.929243)\">the</font>\n",
       "<font style=\"background: rgba(255, 255, 0, 0.873880)\">robbers</font>\n",
       "<font style=\"background: rgba(255, 255, 0, 0.907388)\">turns</font>\n",
       "<font style=\"background: rgba(255, 255, 0, 0.906632)\">to</font>\n",
       "<font style=\"background: rgba(255, 255, 0, 0.930393)\">a</font>\n",
       "<font style=\"background: rgba(255, 255, 0, 0.909703)\">friend</font>\n",
       "<font style=\"background: rgba(255, 255, 0, 0.907234)\">and</font>\n",
       "<font style=\"background: rgba(255, 255, 0, 0.894300)\">says</font>\n",
       "<font style=\"background: rgba(255, 255, 0, 0.894769)\">\"</font>\n",
       "<font style=\"background: rgba(255, 255, 0, 0.889620)\">there</font>\n",
       "<font style=\"background: rgba(255, 255, 0, 0.883307)\">is</font>\n",
       "<font style=\"background: rgba(255, 255, 0, 0.880568)\">n't</font>\n",
       "<font style=\"background: rgba(255, 255, 0, 0.880574)\">a</font>\n",
       "<font style=\"background: rgba(255, 255, 0, 0.828490)\">_UNK</font>\n",
       "<font style=\"background: rgba(255, 255, 0, 0.908449)\">going</font>\n",
       "<font style=\"background: rgba(255, 255, 0, 0.871832)\">that</font>\n",
       "<font style=\"background: rgba(255, 255, 0, 0.853739)\">can</font>\n",
       "<font style=\"background: rgba(255, 255, 0, 0.834157)\">shoot</font>\n",
       "<font style=\"background: rgba(255, 255, 0, 0.875807)\">half</font>\n",
       "<font style=\"background: rgba(255, 255, 0, 0.863897)\">that</font>\n",
       "<font style=\"background: rgba(255, 255, 0, 0.863401)\">distance</font>\n",
       "<font style=\"background: rgba(255, 255, 0, 0.867833)\">.</font>\n",
       "<font style=\"background: rgba(255, 255, 0, 0.909586)\">\"</font>\n",
       "<font style=\"background: rgba(255, 255, 0, 0.945231)\">before</font>\n",
       "<font style=\"background: rgba(255, 255, 0, 0.924236)\">being</font>\n",
       "<font style=\"background: rgba(255, 255, 0, 0.962374)\">shot</font>\n",
       "<font style=\"background: rgba(255, 255, 0, 0.911085)\">and</font>\n",
       "<font style=\"background: rgba(255, 255, 0, 0.851280)\">killed</font>\n",
       "<font style=\"background: rgba(255, 255, 0, 0.893961)\">by</font>\n",
       "<font style=\"background: rgba(255, 255, 0, 0.875334)\">sabata</font>\n",
       "<font style=\"background: rgba(255, 255, 0, 0.863216)\">.</font>\n",
       "<font style=\"background: rgba(255, 255, 0, 0.855008)\">sabata</font>\n",
       "<font style=\"background: rgba(255, 255, 0, 0.838092)\">uses</font>\n",
       "<font style=\"background: rgba(255, 255, 0, 0.844322)\">his</font>\n",
       "<font style=\"background: rgba(255, 255, 0, 0.892371)\">rifle</font>\n",
       "<font style=\"background: rgba(255, 255, 0, 0.892976)\">to</font>\n",
       "<font style=\"background: rgba(255, 255, 0, 0.866757)\">kill</font>\n",
       "<font style=\"background: rgba(255, 255, 0, 0.911564)\">six</font>\n"
      ],
      "text/plain": [
       "<IPython.core.display.HTML object>"
      ]
     },
     "metadata": {},
     "output_type": "display_data"
    }
   ],
   "source": [
    "with open('visual.html','r') as f:\n",
    "    text = f.read()\n",
    "    display(HTML(text))"
   ]
  }
 ],
 "metadata": {
  "kernelspec": {
   "display_name": "Python 2",
   "language": "python",
   "name": "python2"
  },
  "language_info": {
   "codemirror_mode": {
    "name": "ipython",
    "version": 2
   },
   "file_extension": ".py",
   "mimetype": "text/x-python",
   "name": "python",
   "nbconvert_exporter": "python",
   "pygments_lexer": "ipython2",
   "version": "2.7.13"
  }
 },
 "nbformat": 4,
 "nbformat_minor": 2
}
